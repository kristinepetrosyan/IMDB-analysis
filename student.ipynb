{
 "cells": [
  {
   "cell_type": "markdown",
   "metadata": {},
   "source": [
    "# Final Project Submission\n",
    "\n",
    "Please fill out:\n",
    "* Student name: Kristine Petrosyan\n",
    "* Student pace: part time\n",
    "* Scheduled project review date/time: March 20th @ 11:00 AM CST \n",
    "* Instructor name: Victor Geislinger\n",
    "* Blog post URL:https://medium.com/@kristinelpetrosyan/how-to-choose-the-perfect-graph-for-your-dataframe-1665ee469f8b\n"
   ]
  },
  {
   "cell_type": "markdown",
   "metadata": {},
   "source": [
    "# Analysis of movie industry\n",
    "\n",
    "## Introduction\n",
    "\n",
    "My employer(Microsoft) decided to make a new movie studio without knowing anything about creating movies. They have hired me to help them understand the movie industry and related pros and cons. I am in charge of doing data analysis and presenting what type of movies are doing the best last 10 years.\n",
    "\n",
    "### Goals\n",
    "\n",
    "In this project the datasets from IMDB used to explore and understand what type of movies are doing the best in recent years.\n",
    "With provided data we can answer to following questions:\n",
    "\n",
    "1. How many movies released each year/month?\n",
    "\n",
    "2. Which month of the year is more profitable?\n",
    "\n",
    "3. Which production budget ranges yield the most profitable movies?\n",
    "\n",
    "4. What is the runtime minutes and genre of highly rated movies and which genres are most profitable recently?\n",
    "\n",
    "5. Which directors are making the most profitable movies?\n",
    "\n",
    "### Importing the Data\n",
    "\n",
    "The first step is to import any necessary libraries as shown below."
   ]
  },
  {
   "cell_type": "code",
   "execution_count": 1,
   "metadata": {},
   "outputs": [],
   "source": [
    "#Imported necessary packages\n",
    "import pandas as pd\n",
    "import numpy as np\n",
    "import matplotlib.pyplot as plt\n",
    "import seaborn as sns\n",
    "import pandasql\n",
    "from pandasql import sqldf\n",
    "plt.style.use('seaborn-whitegrid')\n",
    "%matplotlib inline"
   ]
  },
  {
   "cell_type": "code",
   "execution_count": 2,
   "metadata": {},
   "outputs": [
    {
     "data": {
      "text/plain": [
       "'1.16.5'"
      ]
     },
     "execution_count": 2,
     "metadata": {},
     "output_type": "execute_result"
    }
   ],
   "source": [
    "#Showing numpy version\n",
    "np.__version__"
   ]
  },
  {
   "cell_type": "markdown",
   "metadata": {},
   "source": [
    "# Box Office \n",
    "This data will be useful to find total gross for movies.However due no title ID \n",
    "difficult to join. We have title, studio, year and domestic/foreign revenue \n",
    "information in here. "
   ]
  },
  {
   "cell_type": "code",
   "execution_count": 3,
   "metadata": {},
   "outputs": [
    {
     "name": "stdout",
     "output_type": "stream",
     "text": [
      "<class 'pandas.core.frame.DataFrame'>\n",
      "RangeIndex: 3387 entries, 0 to 3386\n",
      "Data columns (total 5 columns):\n",
      "title             3387 non-null object\n",
      "studio            3382 non-null object\n",
      "domestic_gross    3359 non-null float64\n",
      "foreign_gross     2037 non-null object\n",
      "year              3387 non-null int64\n",
      "dtypes: float64(1), int64(1), object(3)\n",
      "memory usage: 132.4+ KB\n"
     ]
    }
   ],
   "source": [
    "#Reading csv file and checking what it contains\n",
    "df_gross=pd.read_csv('./zippedData/bom.movie_gross.csv')\n",
    "df_gross.info()"
   ]
  },
  {
   "cell_type": "markdown",
   "metadata": {},
   "source": [
    "# IMDB\n",
    "\n",
    "This data includes title, year,genres and runtime minutes which can be useful. "
   ]
  },
  {
   "cell_type": "code",
   "execution_count": 4,
   "metadata": {},
   "outputs": [
    {
     "name": "stdout",
     "output_type": "stream",
     "text": [
      "<class 'pandas.core.frame.DataFrame'>\n",
      "RangeIndex: 146144 entries, 0 to 146143\n",
      "Data columns (total 6 columns):\n",
      "tconst             146144 non-null object\n",
      "primary_title      146144 non-null object\n",
      "original_title     146123 non-null object\n",
      "start_year         146144 non-null int64\n",
      "runtime_minutes    114405 non-null float64\n",
      "genres             140736 non-null object\n",
      "dtypes: float64(1), int64(1), object(4)\n",
      "memory usage: 6.7+ MB\n"
     ]
    }
   ],
   "source": [
    "#Reading csv file and checking what it contains\n",
    "df_title=pd.read_csv('./zippedData/imdb.title.basics.csv')\n",
    "df_title.info()\n"
   ]
  },
  {
   "cell_type": "raw",
   "metadata": {},
   "source": [
    "\n",
    "This will likely to be of no use. There are too many \"primary_profession\"s listed\n",
    "for each person and no way of knowing which role they played in each title."
   ]
  },
  {
   "cell_type": "code",
   "execution_count": 5,
   "metadata": {},
   "outputs": [
    {
     "data": {
      "text/html": [
       "<div>\n",
       "<style scoped>\n",
       "    .dataframe tbody tr th:only-of-type {\n",
       "        vertical-align: middle;\n",
       "    }\n",
       "\n",
       "    .dataframe tbody tr th {\n",
       "        vertical-align: top;\n",
       "    }\n",
       "\n",
       "    .dataframe thead th {\n",
       "        text-align: right;\n",
       "    }\n",
       "</style>\n",
       "<table border=\"1\" class=\"dataframe\">\n",
       "  <thead>\n",
       "    <tr style=\"text-align: right;\">\n",
       "      <th></th>\n",
       "      <th>nconst</th>\n",
       "      <th>primary_name</th>\n",
       "      <th>birth_year</th>\n",
       "      <th>death_year</th>\n",
       "      <th>primary_profession</th>\n",
       "      <th>known_for_titles</th>\n",
       "    </tr>\n",
       "  </thead>\n",
       "  <tbody>\n",
       "    <tr>\n",
       "      <td>0</td>\n",
       "      <td>nm0061671</td>\n",
       "      <td>Mary Ellen Bauder</td>\n",
       "      <td>NaN</td>\n",
       "      <td>NaN</td>\n",
       "      <td>miscellaneous,production_manager,producer</td>\n",
       "      <td>tt0837562,tt2398241,tt0844471,tt0118553</td>\n",
       "    </tr>\n",
       "    <tr>\n",
       "      <td>1</td>\n",
       "      <td>nm0061865</td>\n",
       "      <td>Joseph Bauer</td>\n",
       "      <td>NaN</td>\n",
       "      <td>NaN</td>\n",
       "      <td>composer,music_department,sound_department</td>\n",
       "      <td>tt0896534,tt6791238,tt0287072,tt1682940</td>\n",
       "    </tr>\n",
       "    <tr>\n",
       "      <td>2</td>\n",
       "      <td>nm0062070</td>\n",
       "      <td>Bruce Baum</td>\n",
       "      <td>NaN</td>\n",
       "      <td>NaN</td>\n",
       "      <td>miscellaneous,actor,writer</td>\n",
       "      <td>tt1470654,tt0363631,tt0104030,tt0102898</td>\n",
       "    </tr>\n",
       "    <tr>\n",
       "      <td>3</td>\n",
       "      <td>nm0062195</td>\n",
       "      <td>Axel Baumann</td>\n",
       "      <td>NaN</td>\n",
       "      <td>NaN</td>\n",
       "      <td>camera_department,cinematographer,art_department</td>\n",
       "      <td>tt0114371,tt2004304,tt1618448,tt1224387</td>\n",
       "    </tr>\n",
       "    <tr>\n",
       "      <td>4</td>\n",
       "      <td>nm0062798</td>\n",
       "      <td>Pete Baxter</td>\n",
       "      <td>NaN</td>\n",
       "      <td>NaN</td>\n",
       "      <td>production_designer,art_department,set_decorator</td>\n",
       "      <td>tt0452644,tt0452692,tt3458030,tt2178256</td>\n",
       "    </tr>\n",
       "  </tbody>\n",
       "</table>\n",
       "</div>"
      ],
      "text/plain": [
       "      nconst       primary_name  birth_year  death_year  \\\n",
       "0  nm0061671  Mary Ellen Bauder         NaN         NaN   \n",
       "1  nm0061865       Joseph Bauer         NaN         NaN   \n",
       "2  nm0062070         Bruce Baum         NaN         NaN   \n",
       "3  nm0062195       Axel Baumann         NaN         NaN   \n",
       "4  nm0062798        Pete Baxter         NaN         NaN   \n",
       "\n",
       "                                 primary_profession  \\\n",
       "0         miscellaneous,production_manager,producer   \n",
       "1        composer,music_department,sound_department   \n",
       "2                        miscellaneous,actor,writer   \n",
       "3  camera_department,cinematographer,art_department   \n",
       "4  production_designer,art_department,set_decorator   \n",
       "\n",
       "                          known_for_titles  \n",
       "0  tt0837562,tt2398241,tt0844471,tt0118553  \n",
       "1  tt0896534,tt6791238,tt0287072,tt1682940  \n",
       "2  tt1470654,tt0363631,tt0104030,tt0102898  \n",
       "3  tt0114371,tt2004304,tt1618448,tt1224387  \n",
       "4  tt0452644,tt0452692,tt3458030,tt2178256  "
      ]
     },
     "execution_count": 5,
     "metadata": {},
     "output_type": "execute_result"
    }
   ],
   "source": [
    "#Reading csv file and checking what it contains\n",
    "df_names=pd.read_csv('./zippedData/imdb.name.basics.csv')\n",
    "df_names.head()"
   ]
  },
  {
   "cell_type": "raw",
   "metadata": {},
   "source": [
    "Includes title, language, region, types which are not saying much and perhaps \n",
    "this data has a lot of missing values which is obvious by looking at numbers below.\n",
    "Will keep this here in case is proves useful in future analyses."
   ]
  },
  {
   "cell_type": "code",
   "execution_count": 6,
   "metadata": {},
   "outputs": [
    {
     "name": "stdout",
     "output_type": "stream",
     "text": [
      "<class 'pandas.core.frame.DataFrame'>\n",
      "RangeIndex: 331703 entries, 0 to 331702\n",
      "Data columns (total 8 columns):\n",
      "title_id             331703 non-null object\n",
      "ordering             331703 non-null int64\n",
      "title                331703 non-null object\n",
      "region               278410 non-null object\n",
      "language             41715 non-null object\n",
      "types                168447 non-null object\n",
      "attributes           14925 non-null object\n",
      "is_original_title    331678 non-null float64\n",
      "dtypes: float64(1), int64(1), object(6)\n",
      "memory usage: 20.2+ MB\n"
     ]
    }
   ],
   "source": [
    "#Reading csv file and checking what it contains\n",
    "df_akas=pd.read_csv('./zippedData/imdb.title.akas.csv')\n",
    "df_akas.info()"
   ]
  },
  {
   "cell_type": "raw",
   "metadata": {},
   "source": [
    "This includes names of directors/writers which will be useful to find directors who make profitable movies. "
   ]
  },
  {
   "cell_type": "code",
   "execution_count": 7,
   "metadata": {},
   "outputs": [
    {
     "name": "stdout",
     "output_type": "stream",
     "text": [
      "<class 'pandas.core.frame.DataFrame'>\n",
      "RangeIndex: 146144 entries, 0 to 146143\n",
      "Data columns (total 3 columns):\n",
      "tconst       146144 non-null object\n",
      "directors    140417 non-null object\n",
      "writers      110261 non-null object\n",
      "dtypes: object(3)\n",
      "memory usage: 3.3+ MB\n"
     ]
    }
   ],
   "source": [
    "#Reading csv file and checking what it contains\n",
    "df_crew=pd.read_csv('./zippedData/imdb.title.crew.csv')\n",
    "df_crew.info()"
   ]
  },
  {
   "cell_type": "raw",
   "metadata": {},
   "source": [
    "This data will help to find producers and directors make the most profitable\n",
    "movies and compared to previous data has more values(1028186)."
   ]
  },
  {
   "cell_type": "code",
   "execution_count": 8,
   "metadata": {},
   "outputs": [
    {
     "name": "stdout",
     "output_type": "stream",
     "text": [
      "<class 'pandas.core.frame.DataFrame'>\n",
      "RangeIndex: 1028186 entries, 0 to 1028185\n",
      "Data columns (total 6 columns):\n",
      "tconst        1028186 non-null object\n",
      "ordering      1028186 non-null int64\n",
      "nconst        1028186 non-null object\n",
      "category      1028186 non-null object\n",
      "job           177684 non-null object\n",
      "characters    393360 non-null object\n",
      "dtypes: int64(1), object(5)\n",
      "memory usage: 47.1+ MB\n"
     ]
    }
   ],
   "source": [
    "#Reading csv file and checking what it contains\n",
    "df_principals=pd.read_csv('./zippedData/imdb.title.principals.csv')\n",
    "df_principals.info()"
   ]
  },
  {
   "cell_type": "raw",
   "metadata": {},
   "source": [
    "This dataframe will help to determine a popularity of the movies."
   ]
  },
  {
   "cell_type": "code",
   "execution_count": 9,
   "metadata": {},
   "outputs": [
    {
     "name": "stdout",
     "output_type": "stream",
     "text": [
      "<class 'pandas.core.frame.DataFrame'>\n",
      "RangeIndex: 73856 entries, 0 to 73855\n",
      "Data columns (total 3 columns):\n",
      "tconst           73856 non-null object\n",
      "averagerating    73856 non-null float64\n",
      "numvotes         73856 non-null int64\n",
      "dtypes: float64(1), int64(1), object(1)\n",
      "memory usage: 1.7+ MB\n"
     ]
    }
   ],
   "source": [
    "#Reading csv file and checking what it contains\n",
    "df_ratings=pd.read_csv('./zippedData/imdb.title.ratings.csv')\n",
    "df_ratings.info()"
   ]
  },
  {
   "cell_type": "markdown",
   "metadata": {},
   "source": [
    "# Rotten Tomatoes\n",
    "This dataframe has a lot of missing data and I will leave it here for now."
   ]
  },
  {
   "cell_type": "code",
   "execution_count": 10,
   "metadata": {},
   "outputs": [
    {
     "name": "stdout",
     "output_type": "stream",
     "text": [
      "<class 'pandas.core.frame.DataFrame'>\n",
      "RangeIndex: 1560 entries, 0 to 1559\n",
      "Data columns (total 12 columns):\n",
      "id              1560 non-null int64\n",
      "synopsis        1498 non-null object\n",
      "rating          1557 non-null object\n",
      "genre           1552 non-null object\n",
      "director        1361 non-null object\n",
      "writer          1111 non-null object\n",
      "theater_date    1201 non-null object\n",
      "dvd_date        1201 non-null object\n",
      "currency        340 non-null object\n",
      "box_office      340 non-null object\n",
      "runtime         1530 non-null object\n",
      "studio          494 non-null object\n",
      "dtypes: int64(1), object(11)\n",
      "memory usage: 146.4+ KB\n"
     ]
    }
   ],
   "source": [
    "#Reading tsv file by using encoding feature and checking what it contains\n",
    "df_info=pd.read_csv('./zippedData/rt.movie_info.tsv', delimiter='\\t',encoding='utf-8')\n",
    "df_info.info()"
   ]
  },
  {
   "cell_type": "raw",
   "metadata": {},
   "source": [
    "This data contains info about ratings and reviews. \n",
    "I will come back to this later."
   ]
  },
  {
   "cell_type": "code",
   "execution_count": 11,
   "metadata": {},
   "outputs": [
    {
     "name": "stdout",
     "output_type": "stream",
     "text": [
      "<class 'pandas.core.frame.DataFrame'>\n",
      "RangeIndex: 54432 entries, 0 to 54431\n",
      "Data columns (total 8 columns):\n",
      "id            54432 non-null int64\n",
      "review        48869 non-null object\n",
      "rating        40915 non-null object\n",
      "fresh         54432 non-null object\n",
      "critic        51710 non-null object\n",
      "top_critic    54432 non-null int64\n",
      "publisher     54123 non-null object\n",
      "date          54432 non-null object\n",
      "dtypes: int64(2), object(6)\n",
      "memory usage: 3.3+ MB\n"
     ]
    }
   ],
   "source": [
    "#Reading tsv file by using encoding feature and checking what it contains\n",
    "df_reviews=pd.read_csv('./zippedData/rt.reviews.tsv', delimiter='\\t',encoding='latin1')\n",
    "df_reviews.info()"
   ]
  },
  {
   "cell_type": "markdown",
   "metadata": {},
   "source": [
    "# TMDB\n",
    "This dataframe we will use to see movie's popularity."
   ]
  },
  {
   "cell_type": "code",
   "execution_count": 12,
   "metadata": {},
   "outputs": [
    {
     "name": "stdout",
     "output_type": "stream",
     "text": [
      "<class 'pandas.core.frame.DataFrame'>\n",
      "RangeIndex: 26517 entries, 0 to 26516\n",
      "Data columns (total 10 columns):\n",
      "Unnamed: 0           26517 non-null int64\n",
      "genre_ids            26517 non-null object\n",
      "id                   26517 non-null int64\n",
      "original_language    26517 non-null object\n",
      "original_title       26517 non-null object\n",
      "popularity           26517 non-null float64\n",
      "release_date         26517 non-null object\n",
      "title                26517 non-null object\n",
      "vote_average         26517 non-null float64\n",
      "vote_count           26517 non-null int64\n",
      "dtypes: float64(2), int64(3), object(5)\n",
      "memory usage: 2.0+ MB\n"
     ]
    }
   ],
   "source": [
    "#Reading csv file and checking what it contains\n",
    "df_popularity=pd.read_csv('./zippedData/tmdb.movies.csv')\n",
    "df_popularity.info()"
   ]
  },
  {
   "cell_type": "raw",
   "metadata": {},
   "source": [
    "This is most important dataframe because it contains all the info about revenue and production budget which are necessary in calculating net income and ROI."
   ]
  },
  {
   "cell_type": "code",
   "execution_count": 13,
   "metadata": {},
   "outputs": [
    {
     "name": "stdout",
     "output_type": "stream",
     "text": [
      "<class 'pandas.core.frame.DataFrame'>\n",
      "RangeIndex: 5782 entries, 0 to 5781\n",
      "Data columns (total 6 columns):\n",
      "id                   5782 non-null int64\n",
      "release_date         5782 non-null object\n",
      "movie                5782 non-null object\n",
      "production_budget    5782 non-null object\n",
      "domestic_gross       5782 non-null object\n",
      "worldwide_gross      5782 non-null object\n",
      "dtypes: int64(1), object(5)\n",
      "memory usage: 271.2+ KB\n"
     ]
    }
   ],
   "source": [
    "#Reading csv file and checking what it contains\n",
    "df_budjets=pd.read_csv('./zippedData/tn.movie_budgets.csv')\n",
    "df_budjets.info()"
   ]
  },
  {
   "cell_type": "markdown",
   "metadata": {},
   "source": [
    "## Question 1 \n",
    "## How many movies released each year/month?"
   ]
  },
  {
   "cell_type": "code",
   "execution_count": 14,
   "metadata": {},
   "outputs": [
    {
     "data": {
      "text/html": [
       "<div>\n",
       "<style scoped>\n",
       "    .dataframe tbody tr th:only-of-type {\n",
       "        vertical-align: middle;\n",
       "    }\n",
       "\n",
       "    .dataframe tbody tr th {\n",
       "        vertical-align: top;\n",
       "    }\n",
       "\n",
       "    .dataframe thead th {\n",
       "        text-align: right;\n",
       "    }\n",
       "</style>\n",
       "<table border=\"1\" class=\"dataframe\">\n",
       "  <thead>\n",
       "    <tr style=\"text-align: right;\">\n",
       "      <th></th>\n",
       "      <th>Unnamed: 0</th>\n",
       "      <th>genre_ids</th>\n",
       "      <th>id</th>\n",
       "      <th>original_language</th>\n",
       "      <th>original_title</th>\n",
       "      <th>popularity</th>\n",
       "      <th>release_date</th>\n",
       "      <th>title</th>\n",
       "      <th>vote_average</th>\n",
       "      <th>vote_count</th>\n",
       "    </tr>\n",
       "  </thead>\n",
       "  <tbody>\n",
       "    <tr>\n",
       "      <td>0</td>\n",
       "      <td>0</td>\n",
       "      <td>[12, 14, 10751]</td>\n",
       "      <td>12444</td>\n",
       "      <td>en</td>\n",
       "      <td>Harry Potter and the Deathly Hallows: Part 1</td>\n",
       "      <td>33.533</td>\n",
       "      <td>2010-11-19</td>\n",
       "      <td>Harry Potter and the Deathly Hallows: Part 1</td>\n",
       "      <td>7.7</td>\n",
       "      <td>10788</td>\n",
       "    </tr>\n",
       "    <tr>\n",
       "      <td>1</td>\n",
       "      <td>1</td>\n",
       "      <td>[14, 12, 16, 10751]</td>\n",
       "      <td>10191</td>\n",
       "      <td>en</td>\n",
       "      <td>How to Train Your Dragon</td>\n",
       "      <td>28.734</td>\n",
       "      <td>2010-03-26</td>\n",
       "      <td>How to Train Your Dragon</td>\n",
       "      <td>7.7</td>\n",
       "      <td>7610</td>\n",
       "    </tr>\n",
       "    <tr>\n",
       "      <td>2</td>\n",
       "      <td>2</td>\n",
       "      <td>[12, 28, 878]</td>\n",
       "      <td>10138</td>\n",
       "      <td>en</td>\n",
       "      <td>Iron Man 2</td>\n",
       "      <td>28.515</td>\n",
       "      <td>2010-05-07</td>\n",
       "      <td>Iron Man 2</td>\n",
       "      <td>6.8</td>\n",
       "      <td>12368</td>\n",
       "    </tr>\n",
       "    <tr>\n",
       "      <td>3</td>\n",
       "      <td>3</td>\n",
       "      <td>[16, 35, 10751]</td>\n",
       "      <td>862</td>\n",
       "      <td>en</td>\n",
       "      <td>Toy Story</td>\n",
       "      <td>28.005</td>\n",
       "      <td>1995-11-22</td>\n",
       "      <td>Toy Story</td>\n",
       "      <td>7.9</td>\n",
       "      <td>10174</td>\n",
       "    </tr>\n",
       "    <tr>\n",
       "      <td>4</td>\n",
       "      <td>4</td>\n",
       "      <td>[28, 878, 12]</td>\n",
       "      <td>27205</td>\n",
       "      <td>en</td>\n",
       "      <td>Inception</td>\n",
       "      <td>27.920</td>\n",
       "      <td>2010-07-16</td>\n",
       "      <td>Inception</td>\n",
       "      <td>8.3</td>\n",
       "      <td>22186</td>\n",
       "    </tr>\n",
       "  </tbody>\n",
       "</table>\n",
       "</div>"
      ],
      "text/plain": [
       "   Unnamed: 0            genre_ids     id original_language  \\\n",
       "0           0      [12, 14, 10751]  12444                en   \n",
       "1           1  [14, 12, 16, 10751]  10191                en   \n",
       "2           2        [12, 28, 878]  10138                en   \n",
       "3           3      [16, 35, 10751]    862                en   \n",
       "4           4        [28, 878, 12]  27205                en   \n",
       "\n",
       "                                 original_title  popularity release_date  \\\n",
       "0  Harry Potter and the Deathly Hallows: Part 1      33.533   2010-11-19   \n",
       "1                      How to Train Your Dragon      28.734   2010-03-26   \n",
       "2                                    Iron Man 2      28.515   2010-05-07   \n",
       "3                                     Toy Story      28.005   1995-11-22   \n",
       "4                                     Inception      27.920   2010-07-16   \n",
       "\n",
       "                                          title  vote_average  vote_count  \n",
       "0  Harry Potter and the Deathly Hallows: Part 1           7.7       10788  \n",
       "1                      How to Train Your Dragon           7.7        7610  \n",
       "2                                    Iron Man 2           6.8       12368  \n",
       "3                                     Toy Story           7.9       10174  \n",
       "4                                     Inception           8.3       22186  "
      ]
     },
     "execution_count": 14,
     "metadata": {},
     "output_type": "execute_result"
    }
   ],
   "source": [
    "#noticed that there is more data connected with date compared to budget file\n",
    "#checking to see overall data\n",
    "df_popularity.head()\n"
   ]
  },
  {
   "cell_type": "code",
   "execution_count": 15,
   "metadata": {},
   "outputs": [],
   "source": [
    "#dropping unnecessary columns\n",
    "\n",
    "df_popularity= df_popularity.drop(df_popularity.columns[0], axis=1)"
   ]
  },
  {
   "cell_type": "code",
   "execution_count": 16,
   "metadata": {},
   "outputs": [
    {
     "data": {
      "text/plain": [
       "genre_ids            0\n",
       "id                   0\n",
       "original_language    0\n",
       "original_title       0\n",
       "popularity           0\n",
       "release_date         0\n",
       "title                0\n",
       "vote_average         0\n",
       "vote_count           0\n",
       "dtype: int64"
      ]
     },
     "execution_count": 16,
     "metadata": {},
     "output_type": "execute_result"
    }
   ],
   "source": [
    "# Checked for null values\n",
    "df_popularity.isna().sum()"
   ]
  },
  {
   "cell_type": "code",
   "execution_count": 17,
   "metadata": {},
   "outputs": [
    {
     "name": "stdout",
     "output_type": "stream",
     "text": [
      "1020\n"
     ]
    },
    {
     "data": {
      "text/html": [
       "<div>\n",
       "<style scoped>\n",
       "    .dataframe tbody tr th:only-of-type {\n",
       "        vertical-align: middle;\n",
       "    }\n",
       "\n",
       "    .dataframe tbody tr th {\n",
       "        vertical-align: top;\n",
       "    }\n",
       "\n",
       "    .dataframe thead th {\n",
       "        text-align: right;\n",
       "    }\n",
       "</style>\n",
       "<table border=\"1\" class=\"dataframe\">\n",
       "  <thead>\n",
       "    <tr style=\"text-align: right;\">\n",
       "      <th></th>\n",
       "      <th>genre_ids</th>\n",
       "      <th>id</th>\n",
       "      <th>original_language</th>\n",
       "      <th>original_title</th>\n",
       "      <th>popularity</th>\n",
       "      <th>release_date</th>\n",
       "      <th>title</th>\n",
       "      <th>vote_average</th>\n",
       "      <th>vote_count</th>\n",
       "    </tr>\n",
       "  </thead>\n",
       "  <tbody>\n",
       "    <tr>\n",
       "      <td>2473</td>\n",
       "      <td>[16, 35, 10751]</td>\n",
       "      <td>862</td>\n",
       "      <td>en</td>\n",
       "      <td>Toy Story</td>\n",
       "      <td>28.005</td>\n",
       "      <td>1995-11-22</td>\n",
       "      <td>Toy Story</td>\n",
       "      <td>7.9</td>\n",
       "      <td>10174</td>\n",
       "    </tr>\n",
       "    <tr>\n",
       "      <td>2477</td>\n",
       "      <td>[16, 35, 10751]</td>\n",
       "      <td>863</td>\n",
       "      <td>en</td>\n",
       "      <td>Toy Story 2</td>\n",
       "      <td>22.698</td>\n",
       "      <td>1999-11-24</td>\n",
       "      <td>Toy Story 2</td>\n",
       "      <td>7.5</td>\n",
       "      <td>7553</td>\n",
       "    </tr>\n",
       "    <tr>\n",
       "      <td>2536</td>\n",
       "      <td>[12, 28, 878]</td>\n",
       "      <td>20526</td>\n",
       "      <td>en</td>\n",
       "      <td>TRON: Legacy</td>\n",
       "      <td>13.459</td>\n",
       "      <td>2010-12-10</td>\n",
       "      <td>TRON: Legacy</td>\n",
       "      <td>6.3</td>\n",
       "      <td>4387</td>\n",
       "    </tr>\n",
       "    <tr>\n",
       "      <td>2673</td>\n",
       "      <td>[18, 10749]</td>\n",
       "      <td>46705</td>\n",
       "      <td>en</td>\n",
       "      <td>Blue Valentine</td>\n",
       "      <td>8.994</td>\n",
       "      <td>2010-12-29</td>\n",
       "      <td>Blue Valentine</td>\n",
       "      <td>6.9</td>\n",
       "      <td>1677</td>\n",
       "    </tr>\n",
       "    <tr>\n",
       "      <td>2717</td>\n",
       "      <td>[35, 18, 14, 27, 9648]</td>\n",
       "      <td>45649</td>\n",
       "      <td>en</td>\n",
       "      <td>Rubber</td>\n",
       "      <td>8.319</td>\n",
       "      <td>2010-09-01</td>\n",
       "      <td>Rubber</td>\n",
       "      <td>5.9</td>\n",
       "      <td>417</td>\n",
       "    </tr>\n",
       "    <tr>\n",
       "      <td>2803</td>\n",
       "      <td>[35, 18]</td>\n",
       "      <td>46829</td>\n",
       "      <td>en</td>\n",
       "      <td>Barney's Version</td>\n",
       "      <td>7.357</td>\n",
       "      <td>2011-01-14</td>\n",
       "      <td>Barney's Version</td>\n",
       "      <td>7.2</td>\n",
       "      <td>210</td>\n",
       "    </tr>\n",
       "    <tr>\n",
       "      <td>2919</td>\n",
       "      <td>[18]</td>\n",
       "      <td>54602</td>\n",
       "      <td>en</td>\n",
       "      <td>Skateland</td>\n",
       "      <td>5.938</td>\n",
       "      <td>2011-05-13</td>\n",
       "      <td>Skateland</td>\n",
       "      <td>5.4</td>\n",
       "      <td>16</td>\n",
       "    </tr>\n",
       "    <tr>\n",
       "      <td>2946</td>\n",
       "      <td>[28, 18, 53]</td>\n",
       "      <td>56812</td>\n",
       "      <td>es</td>\n",
       "      <td>Balada triste de trompeta</td>\n",
       "      <td>5.552</td>\n",
       "      <td>2011-08-19</td>\n",
       "      <td>The Last Circus</td>\n",
       "      <td>6.7</td>\n",
       "      <td>177</td>\n",
       "    </tr>\n",
       "    <tr>\n",
       "      <td>3030</td>\n",
       "      <td>[53, 18, 10749, 80]</td>\n",
       "      <td>47261</td>\n",
       "      <td>es</td>\n",
       "      <td>Carancho</td>\n",
       "      <td>4.554</td>\n",
       "      <td>2011-02-11</td>\n",
       "      <td>Carancho</td>\n",
       "      <td>6.6</td>\n",
       "      <td>59</td>\n",
       "    </tr>\n",
       "    <tr>\n",
       "      <td>3184</td>\n",
       "      <td>[10749, 35, 18]</td>\n",
       "      <td>70588</td>\n",
       "      <td>en</td>\n",
       "      <td>The Myth of the American Sleepover</td>\n",
       "      <td>3.066</td>\n",
       "      <td>2011-07-22</td>\n",
       "      <td>The Myth of the American Sleepover</td>\n",
       "      <td>6.2</td>\n",
       "      <td>47</td>\n",
       "    </tr>\n",
       "  </tbody>\n",
       "</table>\n",
       "</div>"
      ],
      "text/plain": [
       "                   genre_ids     id original_language  \\\n",
       "2473         [16, 35, 10751]    862                en   \n",
       "2477         [16, 35, 10751]    863                en   \n",
       "2536           [12, 28, 878]  20526                en   \n",
       "2673             [18, 10749]  46705                en   \n",
       "2717  [35, 18, 14, 27, 9648]  45649                en   \n",
       "2803                [35, 18]  46829                en   \n",
       "2919                    [18]  54602                en   \n",
       "2946            [28, 18, 53]  56812                es   \n",
       "3030     [53, 18, 10749, 80]  47261                es   \n",
       "3184         [10749, 35, 18]  70588                en   \n",
       "\n",
       "                          original_title  popularity release_date  \\\n",
       "2473                           Toy Story      28.005   1995-11-22   \n",
       "2477                         Toy Story 2      22.698   1999-11-24   \n",
       "2536                        TRON: Legacy      13.459   2010-12-10   \n",
       "2673                      Blue Valentine       8.994   2010-12-29   \n",
       "2717                              Rubber       8.319   2010-09-01   \n",
       "2803                    Barney's Version       7.357   2011-01-14   \n",
       "2919                           Skateland       5.938   2011-05-13   \n",
       "2946           Balada triste de trompeta       5.552   2011-08-19   \n",
       "3030                            Carancho       4.554   2011-02-11   \n",
       "3184  The Myth of the American Sleepover       3.066   2011-07-22   \n",
       "\n",
       "                                   title  vote_average  vote_count  \n",
       "2473                           Toy Story           7.9       10174  \n",
       "2477                         Toy Story 2           7.5        7553  \n",
       "2536                        TRON: Legacy           6.3        4387  \n",
       "2673                      Blue Valentine           6.9        1677  \n",
       "2717                              Rubber           5.9         417  \n",
       "2803                    Barney's Version           7.2         210  \n",
       "2919                           Skateland           5.4          16  \n",
       "2946                     The Last Circus           6.7         177  \n",
       "3030                            Carancho           6.6          59  \n",
       "3184  The Myth of the American Sleepover           6.2          47  "
      ]
     },
     "execution_count": 17,
     "metadata": {},
     "output_type": "execute_result"
    }
   ],
   "source": [
    "# Found some duplicated data\n",
    "dupl = df_popularity[df_popularity.duplicated(subset=['id',\n",
    "                                                      'original_language'])]\n",
    "print(len(dupl))\n",
    "dupl.head(10)\n"
   ]
  },
  {
   "cell_type": "code",
   "execution_count": 18,
   "metadata": {},
   "outputs": [
    {
     "data": {
      "text/html": [
       "<div>\n",
       "<style scoped>\n",
       "    .dataframe tbody tr th:only-of-type {\n",
       "        vertical-align: middle;\n",
       "    }\n",
       "\n",
       "    .dataframe tbody tr th {\n",
       "        vertical-align: top;\n",
       "    }\n",
       "\n",
       "    .dataframe thead th {\n",
       "        text-align: right;\n",
       "    }\n",
       "</style>\n",
       "<table border=\"1\" class=\"dataframe\">\n",
       "  <thead>\n",
       "    <tr style=\"text-align: right;\">\n",
       "      <th></th>\n",
       "      <th>genre_ids</th>\n",
       "      <th>id</th>\n",
       "      <th>original_language</th>\n",
       "      <th>original_title</th>\n",
       "      <th>popularity</th>\n",
       "      <th>release_date</th>\n",
       "      <th>title</th>\n",
       "      <th>vote_average</th>\n",
       "      <th>vote_count</th>\n",
       "    </tr>\n",
       "  </thead>\n",
       "  <tbody>\n",
       "  </tbody>\n",
       "</table>\n",
       "</div>"
      ],
      "text/plain": [
       "Empty DataFrame\n",
       "Columns: [genre_ids, id, original_language, original_title, popularity, release_date, title, vote_average, vote_count]\n",
       "Index: []"
      ]
     },
     "execution_count": 18,
     "metadata": {},
     "output_type": "execute_result"
    }
   ],
   "source": [
    "# Dropping the duplicated rows and checking for duplicates again\n",
    "df_popularity = df_popularity[~df_popularity.duplicated(subset=['id'], keep='first')]\n",
    "df_popularity[df_popularity.duplicated(subset='id')]\n"
   ]
  },
  {
   "cell_type": "code",
   "execution_count": 19,
   "metadata": {},
   "outputs": [
    {
     "name": "stdout",
     "output_type": "stream",
     "text": [
      "<class 'pandas.core.frame.DataFrame'>\n",
      "Int64Index: 25497 entries, 0 to 26516\n",
      "Data columns (total 9 columns):\n",
      "genre_ids            25497 non-null object\n",
      "id                   25497 non-null int64\n",
      "original_language    25497 non-null object\n",
      "original_title       25497 non-null object\n",
      "popularity           25497 non-null float64\n",
      "release_date         25497 non-null object\n",
      "title                25497 non-null object\n",
      "vote_average         25497 non-null float64\n",
      "vote_count           25497 non-null int64\n",
      "dtypes: float64(2), int64(2), object(5)\n",
      "memory usage: 1.9+ MB\n"
     ]
    }
   ],
   "source": [
    "#Checking to see the types of the columns and the release_date is an object\n",
    "df_popularity.info()\n"
   ]
  },
  {
   "cell_type": "code",
   "execution_count": 20,
   "metadata": {},
   "outputs": [
    {
     "data": {
      "text/plain": [
       "dtype('<M8[ns]')"
      ]
     },
     "execution_count": 20,
     "metadata": {},
     "output_type": "execute_result"
    }
   ],
   "source": [
    "# Converting the columns type to datetime\n",
    "df_popularity['release_date'] = pd.to_datetime(df_popularity['release_date'], \n",
    "                                        format='%Y-%m-%d', errors='coerce')\n",
    "df_popularity['release_date'].dtype"
   ]
  },
  {
   "cell_type": "code",
   "execution_count": 21,
   "metadata": {},
   "outputs": [
    {
     "data": {
      "text/plain": [
       "0"
      ]
     },
     "execution_count": 21,
     "metadata": {},
     "output_type": "execute_result"
    }
   ],
   "source": [
    "# Checking if there are any null values emerged due to an error.\n",
    "df_popularity['release_date'].isnull().sum()"
   ]
  },
  {
   "cell_type": "code",
   "execution_count": 22,
   "metadata": {},
   "outputs": [
    {
     "data": {
      "text/html": [
       "<div>\n",
       "<style scoped>\n",
       "    .dataframe tbody tr th:only-of-type {\n",
       "        vertical-align: middle;\n",
       "    }\n",
       "\n",
       "    .dataframe tbody tr th {\n",
       "        vertical-align: top;\n",
       "    }\n",
       "\n",
       "    .dataframe thead th {\n",
       "        text-align: right;\n",
       "    }\n",
       "</style>\n",
       "<table border=\"1\" class=\"dataframe\">\n",
       "  <thead>\n",
       "    <tr style=\"text-align: right;\">\n",
       "      <th></th>\n",
       "      <th>genre_ids</th>\n",
       "      <th>id</th>\n",
       "      <th>original_language</th>\n",
       "      <th>original_title</th>\n",
       "      <th>popularity</th>\n",
       "      <th>release_date</th>\n",
       "      <th>title</th>\n",
       "      <th>vote_average</th>\n",
       "      <th>vote_count</th>\n",
       "      <th>release_year</th>\n",
       "      <th>release_month</th>\n",
       "    </tr>\n",
       "  </thead>\n",
       "  <tbody>\n",
       "    <tr>\n",
       "      <td>0</td>\n",
       "      <td>[12, 14, 10751]</td>\n",
       "      <td>12444</td>\n",
       "      <td>en</td>\n",
       "      <td>Harry Potter and the Deathly Hallows: Part 1</td>\n",
       "      <td>33.533</td>\n",
       "      <td>2010-11-19</td>\n",
       "      <td>Harry Potter and the Deathly Hallows: Part 1</td>\n",
       "      <td>7.7</td>\n",
       "      <td>10788</td>\n",
       "      <td>2010</td>\n",
       "      <td>11</td>\n",
       "    </tr>\n",
       "    <tr>\n",
       "      <td>1</td>\n",
       "      <td>[14, 12, 16, 10751]</td>\n",
       "      <td>10191</td>\n",
       "      <td>en</td>\n",
       "      <td>How to Train Your Dragon</td>\n",
       "      <td>28.734</td>\n",
       "      <td>2010-03-26</td>\n",
       "      <td>How to Train Your Dragon</td>\n",
       "      <td>7.7</td>\n",
       "      <td>7610</td>\n",
       "      <td>2010</td>\n",
       "      <td>3</td>\n",
       "    </tr>\n",
       "    <tr>\n",
       "      <td>2</td>\n",
       "      <td>[12, 28, 878]</td>\n",
       "      <td>10138</td>\n",
       "      <td>en</td>\n",
       "      <td>Iron Man 2</td>\n",
       "      <td>28.515</td>\n",
       "      <td>2010-05-07</td>\n",
       "      <td>Iron Man 2</td>\n",
       "      <td>6.8</td>\n",
       "      <td>12368</td>\n",
       "      <td>2010</td>\n",
       "      <td>5</td>\n",
       "    </tr>\n",
       "    <tr>\n",
       "      <td>3</td>\n",
       "      <td>[16, 35, 10751]</td>\n",
       "      <td>862</td>\n",
       "      <td>en</td>\n",
       "      <td>Toy Story</td>\n",
       "      <td>28.005</td>\n",
       "      <td>1995-11-22</td>\n",
       "      <td>Toy Story</td>\n",
       "      <td>7.9</td>\n",
       "      <td>10174</td>\n",
       "      <td>1995</td>\n",
       "      <td>11</td>\n",
       "    </tr>\n",
       "    <tr>\n",
       "      <td>4</td>\n",
       "      <td>[28, 878, 12]</td>\n",
       "      <td>27205</td>\n",
       "      <td>en</td>\n",
       "      <td>Inception</td>\n",
       "      <td>27.920</td>\n",
       "      <td>2010-07-16</td>\n",
       "      <td>Inception</td>\n",
       "      <td>8.3</td>\n",
       "      <td>22186</td>\n",
       "      <td>2010</td>\n",
       "      <td>7</td>\n",
       "    </tr>\n",
       "  </tbody>\n",
       "</table>\n",
       "</div>"
      ],
      "text/plain": [
       "             genre_ids     id original_language  \\\n",
       "0      [12, 14, 10751]  12444                en   \n",
       "1  [14, 12, 16, 10751]  10191                en   \n",
       "2        [12, 28, 878]  10138                en   \n",
       "3      [16, 35, 10751]    862                en   \n",
       "4        [28, 878, 12]  27205                en   \n",
       "\n",
       "                                 original_title  popularity release_date  \\\n",
       "0  Harry Potter and the Deathly Hallows: Part 1      33.533   2010-11-19   \n",
       "1                      How to Train Your Dragon      28.734   2010-03-26   \n",
       "2                                    Iron Man 2      28.515   2010-05-07   \n",
       "3                                     Toy Story      28.005   1995-11-22   \n",
       "4                                     Inception      27.920   2010-07-16   \n",
       "\n",
       "                                          title  vote_average  vote_count  \\\n",
       "0  Harry Potter and the Deathly Hallows: Part 1           7.7       10788   \n",
       "1                      How to Train Your Dragon           7.7        7610   \n",
       "2                                    Iron Man 2           6.8       12368   \n",
       "3                                     Toy Story           7.9       10174   \n",
       "4                                     Inception           8.3       22186   \n",
       "\n",
       "   release_year  release_month  \n",
       "0          2010             11  \n",
       "1          2010              3  \n",
       "2          2010              5  \n",
       "3          1995             11  \n",
       "4          2010              7  "
      ]
     },
     "execution_count": 22,
     "metadata": {},
     "output_type": "execute_result"
    }
   ],
   "source": [
    "# Created new columns of year and month.\n",
    "df_popularity['release_year'] = df_popularity['release_date'].dt.year\n",
    "df_popularity['release_month'] = df_popularity['release_date'].dt.month\n",
    "    \n",
    "df_popularity.head()"
   ]
  },
  {
   "cell_type": "code",
   "execution_count": 23,
   "metadata": {},
   "outputs": [
    {
     "data": {
      "text/plain": [
       "2015    3066\n",
       "2013    3066\n",
       "2014    3052\n",
       "2016    2970\n",
       "2017    2921\n",
       "2011    2645\n",
       "2012    2615\n",
       "2018    2496\n",
       "2010    2393\n",
       "2019      63\n",
       "2009      39\n",
       "2008      13\n",
       "2004      10\n",
       "2005       9\n",
       "2006       9\n",
       "Name: release_year, dtype: int64"
      ]
     },
     "execution_count": 23,
     "metadata": {},
     "output_type": "execute_result"
    }
   ],
   "source": [
    "#It is clear that the number of movies increases after 2009.\n",
    "df_popularity['release_year'].value_counts()[:15]"
   ]
  },
  {
   "cell_type": "code",
   "execution_count": 24,
   "metadata": {},
   "outputs": [
    {
     "data": {
      "image/png": "[encoded data removed]",
      "text/plain": [
       "<Figure size 1080x504 with 1 Axes>"
      ]
     },
     "metadata": {
      "needs_background": "light"
     },
     "output_type": "display_data"
    }
   ],
   "source": [
    "# Showing Distribution of movies by years \n",
    "#Since we can see on top that number of movies increased after 2009 I will \n",
    "# show the movies released after 2009 and onwards \n",
    "# Don't have much data for 2019 so I am showing from 2009 to 2018\n",
    "fig, ax = plt.subplots(figsize=(15,7))\n",
    "df_popularity[(df_popularity[\"release_year\"] >= 2010) & \n",
    "              (df_popularity[\"release_year\"] < 2019)].groupby(\n",
    "    \"release_year\")[\"id\"].count().plot.bar(ax=ax)\n",
    "ax.set_xlabel('Release Year')\n",
    "ax.set_ylabel('Count')\n",
    "ax.set_title('Movies from 2010 to 2018')\n",
    "plt.show()"
   ]
  },
  {
   "cell_type": "raw",
   "metadata": {},
   "source": [
    "We can see that number of released movies increased after 2009 and years 2013, 2014 and 2015 have the highest number of movies."
   ]
  },
  {
   "cell_type": "code",
   "execution_count": 25,
   "metadata": {},
   "outputs": [
    {
     "data": {
      "image/png": "[encoded data removed]",
      "text/plain": [
       "<Figure size 1080x504 with 1 Axes>"
      ]
     },
     "metadata": {
      "needs_background": "light"
     },
     "output_type": "display_data"
    }
   ],
   "source": [
    "# Showing distribution of movies by months\n",
    "\n",
    "fig, ax = plt.subplots(figsize=(15,7))\n",
    "df_popularity.groupby('release_month')['id'].count().plot.bar()\n",
    "ax.set_xlabel('Release Month')\n",
    "ax.set_ylabel('Count')\n",
    "ax.set_title('Movies by months ')\n",
    "plt.show()"
   ]
  },
  {
   "cell_type": "raw",
   "metadata": {},
   "source": [
    "Above we see that movies are mostly released in January and October. July is the month which least number of movies."
   ]
  },
  {
   "cell_type": "markdown",
   "metadata": {},
   "source": [
    "# Question 2\n",
    "\n",
    "## Which month of the year is more profitable?\n",
    "\n",
    "Since the most important part of this project is to find out how much money we need to spend on production and how much we will get back at the end so it is very important to show stockholders the financial part of the project.\n",
    "In each business money matters of course.\n"
   ]
  },
  {
   "cell_type": "code",
   "execution_count": 26,
   "metadata": {},
   "outputs": [
    {
     "name": "stdout",
     "output_type": "stream",
     "text": [
      "<class 'pandas.core.frame.DataFrame'>\n",
      "RangeIndex: 5782 entries, 0 to 5781\n",
      "Data columns (total 6 columns):\n",
      "id                   5782 non-null int64\n",
      "release_date         5782 non-null object\n",
      "movie                5782 non-null object\n",
      "production_budget    5782 non-null object\n",
      "domestic_gross       5782 non-null object\n",
      "worldwide_gross      5782 non-null object\n",
      "dtypes: int64(1), object(5)\n",
      "memory usage: 271.2+ KB\n"
     ]
    }
   ],
   "source": [
    "#checking the dataframe and most of the columns are type object\n",
    "df_budjets.info()"
   ]
  },
  {
   "cell_type": "code",
   "execution_count": 27,
   "metadata": {},
   "outputs": [],
   "source": [
    "#removing duplicates\n",
    "df_budjets = df_budjets[~df_budjets.duplicated(subset=['movie'], \n",
    "                                               keep='first')].copy(deep=True)"
   ]
  },
  {
   "cell_type": "code",
   "execution_count": 28,
   "metadata": {},
   "outputs": [
    {
     "data": {
      "text/html": [
       "<div>\n",
       "<style scoped>\n",
       "    .dataframe tbody tr th:only-of-type {\n",
       "        vertical-align: middle;\n",
       "    }\n",
       "\n",
       "    .dataframe tbody tr th {\n",
       "        vertical-align: top;\n",
       "    }\n",
       "\n",
       "    .dataframe thead th {\n",
       "        text-align: right;\n",
       "    }\n",
       "</style>\n",
       "<table border=\"1\" class=\"dataframe\">\n",
       "  <thead>\n",
       "    <tr style=\"text-align: right;\">\n",
       "      <th></th>\n",
       "      <th>id</th>\n",
       "      <th>release_date</th>\n",
       "      <th>movie</th>\n",
       "      <th>production_budget</th>\n",
       "      <th>domestic_gross</th>\n",
       "      <th>worldwide_gross</th>\n",
       "    </tr>\n",
       "  </thead>\n",
       "  <tbody>\n",
       "    <tr>\n",
       "      <td>0</td>\n",
       "      <td>1</td>\n",
       "      <td>Dec 18, 2009</td>\n",
       "      <td>Avatar</td>\n",
       "      <td>$425,000,000</td>\n",
       "      <td>$760,507,625</td>\n",
       "      <td>$2,776,345,279</td>\n",
       "    </tr>\n",
       "    <tr>\n",
       "      <td>1</td>\n",
       "      <td>2</td>\n",
       "      <td>May 20, 2011</td>\n",
       "      <td>Pirates of the Caribbean: On Stranger Tides</td>\n",
       "      <td>$410,600,000</td>\n",
       "      <td>$241,063,875</td>\n",
       "      <td>$1,045,663,875</td>\n",
       "    </tr>\n",
       "    <tr>\n",
       "      <td>2</td>\n",
       "      <td>3</td>\n",
       "      <td>Jun 7, 2019</td>\n",
       "      <td>Dark Phoenix</td>\n",
       "      <td>$350,000,000</td>\n",
       "      <td>$42,762,350</td>\n",
       "      <td>$149,762,350</td>\n",
       "    </tr>\n",
       "    <tr>\n",
       "      <td>3</td>\n",
       "      <td>4</td>\n",
       "      <td>May 1, 2015</td>\n",
       "      <td>Avengers: Age of Ultron</td>\n",
       "      <td>$330,600,000</td>\n",
       "      <td>$459,005,868</td>\n",
       "      <td>$1,403,013,963</td>\n",
       "    </tr>\n",
       "    <tr>\n",
       "      <td>4</td>\n",
       "      <td>5</td>\n",
       "      <td>Dec 15, 2017</td>\n",
       "      <td>Star Wars Ep. VIII: The Last Jedi</td>\n",
       "      <td>$317,000,000</td>\n",
       "      <td>$620,181,382</td>\n",
       "      <td>$1,316,721,747</td>\n",
       "    </tr>\n",
       "  </tbody>\n",
       "</table>\n",
       "</div>"
      ],
      "text/plain": [
       "   id  release_date                                        movie  \\\n",
       "0   1  Dec 18, 2009                                       Avatar   \n",
       "1   2  May 20, 2011  Pirates of the Caribbean: On Stranger Tides   \n",
       "2   3   Jun 7, 2019                                 Dark Phoenix   \n",
       "3   4   May 1, 2015                      Avengers: Age of Ultron   \n",
       "4   5  Dec 15, 2017            Star Wars Ep. VIII: The Last Jedi   \n",
       "\n",
       "  production_budget domestic_gross worldwide_gross  \n",
       "0      $425,000,000   $760,507,625  $2,776,345,279  \n",
       "1      $410,600,000   $241,063,875  $1,045,663,875  \n",
       "2      $350,000,000    $42,762,350    $149,762,350  \n",
       "3      $330,600,000   $459,005,868  $1,403,013,963  \n",
       "4      $317,000,000   $620,181,382  $1,316,721,747  "
      ]
     },
     "execution_count": 28,
     "metadata": {},
     "output_type": "execute_result"
    }
   ],
   "source": [
    "#checking how the columns look and as we can see some contain additional $ sign\n",
    "df_budjets.head()"
   ]
  },
  {
   "cell_type": "code",
   "execution_count": 29,
   "metadata": {},
   "outputs": [
    {
     "data": {
      "text/html": [
       "<div>\n",
       "<style scoped>\n",
       "    .dataframe tbody tr th:only-of-type {\n",
       "        vertical-align: middle;\n",
       "    }\n",
       "\n",
       "    .dataframe tbody tr th {\n",
       "        vertical-align: top;\n",
       "    }\n",
       "\n",
       "    .dataframe thead th {\n",
       "        text-align: right;\n",
       "    }\n",
       "</style>\n",
       "<table border=\"1\" class=\"dataframe\">\n",
       "  <thead>\n",
       "    <tr style=\"text-align: right;\">\n",
       "      <th></th>\n",
       "      <th>id</th>\n",
       "      <th>release_date</th>\n",
       "      <th>movie</th>\n",
       "      <th>production_budget</th>\n",
       "      <th>domestic_gross</th>\n",
       "      <th>worldwide_gross</th>\n",
       "      <th>release_year</th>\n",
       "      <th>release_month</th>\n",
       "    </tr>\n",
       "  </thead>\n",
       "  <tbody>\n",
       "    <tr>\n",
       "      <td>0</td>\n",
       "      <td>1</td>\n",
       "      <td>2009-12-18</td>\n",
       "      <td>Avatar</td>\n",
       "      <td>$425,000,000</td>\n",
       "      <td>$760,507,625</td>\n",
       "      <td>$2,776,345,279</td>\n",
       "      <td>2009</td>\n",
       "      <td>12</td>\n",
       "    </tr>\n",
       "    <tr>\n",
       "      <td>1</td>\n",
       "      <td>2</td>\n",
       "      <td>2011-05-20</td>\n",
       "      <td>Pirates of the Caribbean: On Stranger Tides</td>\n",
       "      <td>$410,600,000</td>\n",
       "      <td>$241,063,875</td>\n",
       "      <td>$1,045,663,875</td>\n",
       "      <td>2011</td>\n",
       "      <td>5</td>\n",
       "    </tr>\n",
       "    <tr>\n",
       "      <td>2</td>\n",
       "      <td>3</td>\n",
       "      <td>2019-06-07</td>\n",
       "      <td>Dark Phoenix</td>\n",
       "      <td>$350,000,000</td>\n",
       "      <td>$42,762,350</td>\n",
       "      <td>$149,762,350</td>\n",
       "      <td>2019</td>\n",
       "      <td>6</td>\n",
       "    </tr>\n",
       "    <tr>\n",
       "      <td>3</td>\n",
       "      <td>4</td>\n",
       "      <td>2015-05-01</td>\n",
       "      <td>Avengers: Age of Ultron</td>\n",
       "      <td>$330,600,000</td>\n",
       "      <td>$459,005,868</td>\n",
       "      <td>$1,403,013,963</td>\n",
       "      <td>2015</td>\n",
       "      <td>5</td>\n",
       "    </tr>\n",
       "    <tr>\n",
       "      <td>4</td>\n",
       "      <td>5</td>\n",
       "      <td>2017-12-15</td>\n",
       "      <td>Star Wars Ep. VIII: The Last Jedi</td>\n",
       "      <td>$317,000,000</td>\n",
       "      <td>$620,181,382</td>\n",
       "      <td>$1,316,721,747</td>\n",
       "      <td>2017</td>\n",
       "      <td>12</td>\n",
       "    </tr>\n",
       "  </tbody>\n",
       "</table>\n",
       "</div>"
      ],
      "text/plain": [
       "   id release_date                                        movie  \\\n",
       "0   1   2009-12-18                                       Avatar   \n",
       "1   2   2011-05-20  Pirates of the Caribbean: On Stranger Tides   \n",
       "2   3   2019-06-07                                 Dark Phoenix   \n",
       "3   4   2015-05-01                      Avengers: Age of Ultron   \n",
       "4   5   2017-12-15            Star Wars Ep. VIII: The Last Jedi   \n",
       "\n",
       "  production_budget domestic_gross worldwide_gross  release_year  \\\n",
       "0      $425,000,000   $760,507,625  $2,776,345,279          2009   \n",
       "1      $410,600,000   $241,063,875  $1,045,663,875          2011   \n",
       "2      $350,000,000    $42,762,350    $149,762,350          2019   \n",
       "3      $330,600,000   $459,005,868  $1,403,013,963          2015   \n",
       "4      $317,000,000   $620,181,382  $1,316,721,747          2017   \n",
       "\n",
       "   release_month  \n",
       "0             12  \n",
       "1              5  \n",
       "2              6  \n",
       "3              5  \n",
       "4             12  "
      ]
     },
     "execution_count": 29,
     "metadata": {},
     "output_type": "execute_result"
    }
   ],
   "source": [
    "# Changed the type of release_date column from object to datetime and added \n",
    "#seperate columns called \"release year\" and \"release month\"\n",
    "df_budjets['release_date'] = pd.to_datetime(df_budjets['release_date'], \n",
    "                                        format='%b %d, %Y', errors='coerce')\n",
    "df_budjets['release_year'] = df_budjets['release_date'].dt.year\n",
    "df_budjets['release_month'] = df_budjets['release_date'].dt.month\n",
    "# checking for new columns\n",
    "df_budjets.head()"
   ]
  },
  {
   "cell_type": "code",
   "execution_count": 30,
   "metadata": {},
   "outputs": [],
   "source": [
    "#removing the '$' sign, comas and changing the datatype changing the datatype \n",
    "#to float\n",
    "df_budjets['domestic_gross']=df_budjets['domestic_gross'].str.replace(\"$\",\"\").str.replace(\",\",\"\").astype('float')\n",
    "\n"
   ]
  },
  {
   "cell_type": "code",
   "execution_count": 31,
   "metadata": {},
   "outputs": [],
   "source": [
    "df_budjets['worldwide_gross']=df_budjets['worldwide_gross'].str.replace(\"$\",\"\").str.replace(\",\",\"\").astype('float')"
   ]
  },
  {
   "cell_type": "code",
   "execution_count": 32,
   "metadata": {},
   "outputs": [],
   "source": [
    "df_budjets['production_budget']=df_budjets['production_budget'].str.replace(\"$\",\"\").str.replace(\",\",\"\").astype('float')"
   ]
  },
  {
   "cell_type": "code",
   "execution_count": 33,
   "metadata": {},
   "outputs": [
    {
     "name": "stdout",
     "output_type": "stream",
     "text": [
      "<class 'pandas.core.frame.DataFrame'>\n",
      "Int64Index: 5698 entries, 0 to 5781\n",
      "Data columns (total 8 columns):\n",
      "id                   5698 non-null int64\n",
      "release_date         5698 non-null datetime64[ns]\n",
      "movie                5698 non-null object\n",
      "production_budget    5698 non-null float64\n",
      "domestic_gross       5698 non-null float64\n",
      "worldwide_gross      5698 non-null float64\n",
      "release_year         5698 non-null int64\n",
      "release_month        5698 non-null int64\n",
      "dtypes: datetime64[ns](1), float64(3), int64(3), object(1)\n",
      "memory usage: 400.6+ KB\n"
     ]
    }
   ],
   "source": [
    "#making sure changes are done\n",
    "df_budjets.info()"
   ]
  },
  {
   "cell_type": "raw",
   "metadata": {},
   "source": [
    "Each stockholder would like to see return on investment(ROI). \n",
    "The formula ROI = (gain from investment — cost of investment) / cost of investment. \n",
    "New columns Domestic and Worldwide ROI are added to our dataframe."
   ]
  },
  {
   "cell_type": "code",
   "execution_count": 34,
   "metadata": {},
   "outputs": [
    {
     "name": "stdout",
     "output_type": "stream",
     "text": [
      "<class 'pandas.core.frame.DataFrame'>\n",
      "Int64Index: 5698 entries, 0 to 5781\n",
      "Data columns (total 10 columns):\n",
      "id                   5698 non-null int64\n",
      "release_date         5698 non-null datetime64[ns]\n",
      "movie                5698 non-null object\n",
      "production_budget    5698 non-null float64\n",
      "domestic_gross       5698 non-null float64\n",
      "worldwide_gross      5698 non-null float64\n",
      "release_year         5698 non-null int64\n",
      "release_month        5698 non-null int64\n",
      "ROI_worldwide        5698 non-null float64\n",
      "ROI_domestic         5698 non-null float64\n",
      "dtypes: datetime64[ns](1), float64(5), int64(3), object(1)\n",
      "memory usage: 489.7+ KB\n"
     ]
    }
   ],
   "source": [
    "#computing ROI for both worldwide and domestic\n",
    "df_budjets['ROI_worldwide'] = (df_budjets['worldwide_gross'] - \n",
    "            df_budjets['production_budget']) / df_budjets['production_budget']\n",
    "df_budjets['ROI_domestic'] = (df_budjets['domestic_gross'] - \n",
    "            df_budjets['production_budget']) / df_budjets['production_budget']\n",
    "df_budjets.info()"
   ]
  },
  {
   "cell_type": "code",
   "execution_count": 35,
   "metadata": {},
   "outputs": [
    {
     "data": {
      "image/png": "[encoded data removed]",
      "text/plain": [
       "<Figure size 1080x504 with 1 Axes>"
      ]
     },
     "metadata": {},
     "output_type": "display_data"
    }
   ],
   "source": [
    "#showing the results with bar plot to see which months were most profitable\n",
    "plt.style.use('ggplot')\n",
    "\n",
    "\n",
    "fig, ax = plt.subplots(figsize=(15,7))\n",
    "df_budjets.groupby('release_month')['ROI_worldwide'].mean().plot.bar(\n",
    "    color=['green'])\n",
    "ax.set_ylabel('Worldwide ROI')\n",
    "ax.set_xlabel('Release Month')\n",
    "ax.set_title('Worldwide ROI by Months')\n",
    "plt.show()"
   ]
  },
  {
   "cell_type": "code",
   "execution_count": 36,
   "metadata": {},
   "outputs": [
    {
     "data": {
      "image/png": "[encoded data removed]",
      "text/plain": [
       "<Figure size 1080x504 with 1 Axes>"
      ]
     },
     "metadata": {},
     "output_type": "display_data"
    }
   ],
   "source": [
    "fig, ax = plt.subplots(figsize=(15,7))\n",
    "df_budjets.groupby('release_month')['ROI_domestic'].mean().plot.bar(\n",
    "    color=['green'])\n",
    "ax.set_ylabel('Domestic ROI')\n",
    "ax.set_xlabel('Release Month')\n",
    "ax.set_title('Domestic ROI by Months')\n",
    "plt.show()"
   ]
  },
  {
   "cell_type": "code",
   "execution_count": 37,
   "metadata": {},
   "outputs": [
    {
     "data": {
      "image/png": "[encoded data removed]",
      "text/plain": [
       "<Figure size 1080x504 with 1 Axes>"
      ]
     },
     "metadata": {},
     "output_type": "display_data"
    }
   ],
   "source": [
    "# Production Budget by Months\n",
    "fig, ax = plt.subplots(figsize=(15,7))\n",
    "df_budjets.groupby('release_month')['production_budget'].mean().plot.bar(\n",
    "                                                            color=['green'])\n",
    "ax.set_ylabel('Production Budget Mean')\n",
    "ax.set_xlabel('Release Month')\n",
    "ax.set_title('Production Budget by Months')\n",
    "plt.show()"
   ]
  },
  {
   "cell_type": "raw",
   "metadata": {},
   "source": [
    "Production budget distribution by months shows that May, June, July and November are the months with largest budgets.\n",
    "\n",
    "As a conclusion we can tell that according to dataset top 3 months with highest average ROI are June, July and August. So if you want to release movie consider summer months.Top 4 months with highest average production budget are May, June, July and November."
   ]
  },
  {
   "cell_type": "markdown",
   "metadata": {},
   "source": [
    "\n",
    "\n",
    "# Question 3\n",
    "## Which production budget ranges yield the most profitable movies?\n",
    "\n",
    "### Is higher production budgets  more profitable than movies with lower production budgets?\n",
    "### How much to spend on the movie?"
   ]
  },
  {
   "cell_type": "code",
   "execution_count": 38,
   "metadata": {},
   "outputs": [],
   "source": [
    "#computing the net income since the first question comes is to know how much\n",
    "#net money we will get in case we spent x amount\n",
    "df_budjets['net_income']=(df_budjets['domestic_gross']+\n",
    "            df_budjets['worldwide_gross'])- df_budjets['production_budget']"
   ]
  },
  {
   "cell_type": "code",
   "execution_count": 39,
   "metadata": {},
   "outputs": [
    {
     "data": {
      "text/plain": [
       "count    5.698000e+03\n",
       "mean     1.018014e+08\n",
       "std      2.114872e+08\n",
       "min     -1.574753e+08\n",
       "25%     -3.443462e+05\n",
       "50%      2.478578e+07\n",
       "75%      1.111782e+08\n",
       "max      3.111853e+09\n",
       "Name: net_income, dtype: float64"
      ]
     },
     "execution_count": 39,
     "metadata": {},
     "output_type": "execute_result"
    }
   ],
   "source": [
    "# checking for min and max and outliers\n",
    "df_budjets['net_income'].describe()"
   ]
  },
  {
   "cell_type": "code",
   "execution_count": 40,
   "metadata": {},
   "outputs": [
    {
     "data": {
      "text/plain": [
       "<matplotlib.axes._subplots.AxesSubplot at 0x7ff2ac2daf60>"
      ]
     },
     "execution_count": 40,
     "metadata": {},
     "output_type": "execute_result"
    },
    {
     "data": {
      "image/png": "[encoded data removed]",
      "text/plain": [
       "<Figure size 432x288 with 1 Axes>"
      ]
     },
     "metadata": {},
     "output_type": "display_data"
    }
   ],
   "source": [
    "#making scatter plot which shows positive connection between production \n",
    "#budget and net income.\n",
    "df_budjets.plot.scatter(x='production_budget',\n",
    "                      c='DarkBlue',\n",
    "                      y='net_income',)"
   ]
  },
  {
   "cell_type": "code",
   "execution_count": 41,
   "metadata": {},
   "outputs": [
    {
     "data": {
      "text/plain": [
       "<seaborn.axisgrid.FacetGrid at 0x7ff2ac2bffd0>"
      ]
     },
     "execution_count": 41,
     "metadata": {},
     "output_type": "execute_result"
    },
    {
     "data": {
      "image/png": "[encoded data removed]",
      "text/plain": [
       "<Figure size 360x360 with 1 Axes>"
      ]
     },
     "metadata": {},
     "output_type": "display_data"
    }
   ],
   "source": [
    "#showing connection between release date and production budget\n",
    "#we can see people invest more money on production from 2000 onwards\n",
    "sns.set(style=\"ticks\")\n",
    "sns.catplot(y =\"release_date\", x =\"production_budget\", data=df_budjets, \n",
    "                                                            color='green')"
   ]
  },
  {
   "cell_type": "code",
   "execution_count": 42,
   "metadata": {},
   "outputs": [
    {
     "data": {
      "image/png": "[encoded data removed]",
      "text/plain": [
       "<Figure size 1080x504 with 1 Axes>"
      ]
     },
     "metadata": {},
     "output_type": "display_data"
    }
   ],
   "source": [
    "# showing the change of net income over the years considering \n",
    "#the mean to get better results\n",
    "#We can see starting from 2016 net income is increasing\n",
    "fig, ax = plt.subplots(figsize=(15,7))\n",
    "df_budjets[(df_budjets[\"release_year\"] >= 2010) & \n",
    "           (df_budjets[\"release_year\"] <2019)].groupby('release_year')['net_income'].mean().plot.bar()\n",
    "ax.set_ylabel('Mean of net income')\n",
    "ax.set_xlabel('Release Year')\n",
    "ax.set_title('Net income by Years')\n",
    "plt.show()"
   ]
  },
  {
   "cell_type": "raw",
   "metadata": {},
   "source": [
    "Creating ranges for budgets to compare"
   ]
  },
  {
   "cell_type": "code",
   "execution_count": 43,
   "metadata": {},
   "outputs": [],
   "source": [
    "#defining a function for different ranges\n",
    "def product_budg_range(production_budget):\n",
    "    if production_budget < 5000000:\n",
    "        return \"< $5M\"\n",
    "    elif 5000000 <= production_budget <= 10000000:\n",
    "        return \"$5-10M\"\n",
    "    elif 10000000 <= production_budget <= 20000000:\n",
    "        return \"$10-20M\"\n",
    "    elif 2000000 <= production_budget <= 30000000:\n",
    "        return \"$20-30M\"\n",
    "    elif 3000000 <= production_budget <= 40000000:\n",
    "        return \"$30-40M\"\n",
    "    elif 40000000 <= production_budget <= 50000000:\n",
    "        return \"$40-50M\"\n",
    "    elif 50000000 < production_budget <= 60000000:\n",
    "        return \"$50-60M\"\n",
    "    elif 60000000 < production_budget <= 70000000:\n",
    "        return \"$60-70M\"\n",
    "    elif 70000000 <= production_budget <= 80000000:\n",
    "        return \"$70-80M\"\n",
    "    elif 80000000 < production_budget <= 90000000:\n",
    "        return \"$80-90M\"\n",
    "    elif 90000000 < production_budget <= 1000000000:\n",
    "        return \"$90-100M\"\n",
    "    \n",
    "    else:\n",
    "        return \"> $100M\""
   ]
  },
  {
   "cell_type": "code",
   "execution_count": 44,
   "metadata": {},
   "outputs": [
    {
     "data": {
      "text/html": [
       "<div>\n",
       "<style scoped>\n",
       "    .dataframe tbody tr th:only-of-type {\n",
       "        vertical-align: middle;\n",
       "    }\n",
       "\n",
       "    .dataframe tbody tr th {\n",
       "        vertical-align: top;\n",
       "    }\n",
       "\n",
       "    .dataframe thead th {\n",
       "        text-align: right;\n",
       "    }\n",
       "</style>\n",
       "<table border=\"1\" class=\"dataframe\">\n",
       "  <thead>\n",
       "    <tr style=\"text-align: right;\">\n",
       "      <th></th>\n",
       "      <th>id</th>\n",
       "      <th>release_date</th>\n",
       "      <th>movie</th>\n",
       "      <th>production_budget</th>\n",
       "      <th>domestic_gross</th>\n",
       "      <th>worldwide_gross</th>\n",
       "      <th>release_year</th>\n",
       "      <th>release_month</th>\n",
       "      <th>ROI_worldwide</th>\n",
       "      <th>ROI_domestic</th>\n",
       "      <th>net_income</th>\n",
       "      <th>PB_ranges</th>\n",
       "    </tr>\n",
       "  </thead>\n",
       "  <tbody>\n",
       "    <tr>\n",
       "      <td>0</td>\n",
       "      <td>1</td>\n",
       "      <td>2009-12-18</td>\n",
       "      <td>Avatar</td>\n",
       "      <td>425000000.0</td>\n",
       "      <td>760507625.0</td>\n",
       "      <td>2.776345e+09</td>\n",
       "      <td>2009</td>\n",
       "      <td>12</td>\n",
       "      <td>5.532577</td>\n",
       "      <td>0.789430</td>\n",
       "      <td>3.111853e+09</td>\n",
       "      <td>$90-100M</td>\n",
       "    </tr>\n",
       "    <tr>\n",
       "      <td>1</td>\n",
       "      <td>2</td>\n",
       "      <td>2011-05-20</td>\n",
       "      <td>Pirates of the Caribbean: On Stranger Tides</td>\n",
       "      <td>410600000.0</td>\n",
       "      <td>241063875.0</td>\n",
       "      <td>1.045664e+09</td>\n",
       "      <td>2011</td>\n",
       "      <td>5</td>\n",
       "      <td>1.546673</td>\n",
       "      <td>-0.412899</td>\n",
       "      <td>8.761278e+08</td>\n",
       "      <td>$90-100M</td>\n",
       "    </tr>\n",
       "    <tr>\n",
       "      <td>2</td>\n",
       "      <td>3</td>\n",
       "      <td>2019-06-07</td>\n",
       "      <td>Dark Phoenix</td>\n",
       "      <td>350000000.0</td>\n",
       "      <td>42762350.0</td>\n",
       "      <td>1.497624e+08</td>\n",
       "      <td>2019</td>\n",
       "      <td>6</td>\n",
       "      <td>-0.572108</td>\n",
       "      <td>-0.877822</td>\n",
       "      <td>-1.574753e+08</td>\n",
       "      <td>$90-100M</td>\n",
       "    </tr>\n",
       "    <tr>\n",
       "      <td>3</td>\n",
       "      <td>4</td>\n",
       "      <td>2015-05-01</td>\n",
       "      <td>Avengers: Age of Ultron</td>\n",
       "      <td>330600000.0</td>\n",
       "      <td>459005868.0</td>\n",
       "      <td>1.403014e+09</td>\n",
       "      <td>2015</td>\n",
       "      <td>5</td>\n",
       "      <td>3.243841</td>\n",
       "      <td>0.388403</td>\n",
       "      <td>1.531420e+09</td>\n",
       "      <td>$90-100M</td>\n",
       "    </tr>\n",
       "    <tr>\n",
       "      <td>4</td>\n",
       "      <td>5</td>\n",
       "      <td>2017-12-15</td>\n",
       "      <td>Star Wars Ep. VIII: The Last Jedi</td>\n",
       "      <td>317000000.0</td>\n",
       "      <td>620181382.0</td>\n",
       "      <td>1.316722e+09</td>\n",
       "      <td>2017</td>\n",
       "      <td>12</td>\n",
       "      <td>3.153696</td>\n",
       "      <td>0.956408</td>\n",
       "      <td>1.619903e+09</td>\n",
       "      <td>$90-100M</td>\n",
       "    </tr>\n",
       "  </tbody>\n",
       "</table>\n",
       "</div>"
      ],
      "text/plain": [
       "   id release_date                                        movie  \\\n",
       "0   1   2009-12-18                                       Avatar   \n",
       "1   2   2011-05-20  Pirates of the Caribbean: On Stranger Tides   \n",
       "2   3   2019-06-07                                 Dark Phoenix   \n",
       "3   4   2015-05-01                      Avengers: Age of Ultron   \n",
       "4   5   2017-12-15            Star Wars Ep. VIII: The Last Jedi   \n",
       "\n",
       "   production_budget  domestic_gross  worldwide_gross  release_year  \\\n",
       "0        425000000.0     760507625.0     2.776345e+09          2009   \n",
       "1        410600000.0     241063875.0     1.045664e+09          2011   \n",
       "2        350000000.0      42762350.0     1.497624e+08          2019   \n",
       "3        330600000.0     459005868.0     1.403014e+09          2015   \n",
       "4        317000000.0     620181382.0     1.316722e+09          2017   \n",
       "\n",
       "   release_month  ROI_worldwide  ROI_domestic    net_income PB_ranges  \n",
       "0             12       5.532577      0.789430  3.111853e+09  $90-100M  \n",
       "1              5       1.546673     -0.412899  8.761278e+08  $90-100M  \n",
       "2              6      -0.572108     -0.877822 -1.574753e+08  $90-100M  \n",
       "3              5       3.243841      0.388403  1.531420e+09  $90-100M  \n",
       "4             12       3.153696      0.956408  1.619903e+09  $90-100M  "
      ]
     },
     "execution_count": 44,
     "metadata": {},
     "output_type": "execute_result"
    }
   ],
   "source": [
    "#creating a new column to connect each movie with it's production budget range.\n",
    "\n",
    "df_budjets['PB_ranges'] = df_budjets['production_budget'].apply(product_budg_range)\n",
    "df_budjets.head()"
   ]
  },
  {
   "cell_type": "code",
   "execution_count": 45,
   "metadata": {
    "scrolled": false
   },
   "outputs": [
    {
     "name": "stdout",
     "output_type": "stream",
     "text": [
      "<class 'pandas.core.frame.DataFrame'>\n",
      "Int64Index: 5698 entries, 0 to 5781\n",
      "Data columns (total 13 columns):\n",
      "id                   5698 non-null int64\n",
      "release_date         5698 non-null datetime64[ns]\n",
      "movie                5698 non-null object\n",
      "production_budget    5698 non-null float64\n",
      "domestic_gross       5698 non-null float64\n",
      "worldwide_gross      5698 non-null float64\n",
      "release_year         5698 non-null int64\n",
      "release_month        5698 non-null int64\n",
      "ROI_worldwide        5698 non-null float64\n",
      "ROI_domestic         5698 non-null float64\n",
      "net_income           5698 non-null float64\n",
      "PB_ranges            5698 non-null object\n",
      "profitable           5698 non-null object\n",
      "dtypes: datetime64[ns](1), float64(6), int64(3), object(3)\n",
      "memory usage: 783.2+ KB\n"
     ]
    }
   ],
   "source": [
    "#creating a column which tells us whether or not a movie was profitable\n",
    "\n",
    "df_budjets['profitable'] = df_budjets['net_income'].apply(lambda x: \"Yes\" if x>1 else \"No\")\n",
    "df_budjets.info()"
   ]
  },
  {
   "cell_type": "code",
   "execution_count": 46,
   "metadata": {},
   "outputs": [
    {
     "data": {
      "text/plain": [
       "<seaborn.axisgrid.FacetGrid at 0x7ff2abdc2ba8>"
      ]
     },
     "execution_count": 46,
     "metadata": {},
     "output_type": "execute_result"
    },
    {
     "data": {
      "image/png": "[encoded data removed]",
      "text/plain": [
       "<Figure size 1048.46x396 with 1 Axes>"
      ]
     },
     "metadata": {},
     "output_type": "display_data"
    }
   ],
   "source": [
    "# showing the results where we can see which range is more profitable\n",
    "order= [\"< $5M\", \"$5-10M\", \"$10-20M\", \"$20-30M\",\n",
    "        \"$30-40M\",\"$40-50M\",\"$50-60M\",\"$60-70M\",\n",
    "        \"$70-80M\",\"$80-90M\",\"$90-100M\",\n",
    "        \"> $100M\" ]\n",
    "sns.catplot(x='PB_ranges',\n",
    "                data=df_budjets,\n",
    "                kind=\"count\", hue='profitable', height=5.5, aspect=2.5, order=order)"
   ]
  },
  {
   "cell_type": "raw",
   "metadata": {},
   "source": [
    "We can see that higher production budget lead to higher profit. "
   ]
  },
  {
   "cell_type": "markdown",
   "metadata": {},
   "source": [
    "# Question 4\n",
    "## What is the runtime minutes and genre of highly rated movies and which genres are most profitable recently?"
   ]
  },
  {
   "cell_type": "code",
   "execution_count": 47,
   "metadata": {},
   "outputs": [
    {
     "name": "stdout",
     "output_type": "stream",
     "text": [
      "<class 'pandas.core.frame.DataFrame'>\n",
      "RangeIndex: 146144 entries, 0 to 146143\n",
      "Data columns (total 6 columns):\n",
      "tconst             146144 non-null object\n",
      "primary_title      146144 non-null object\n",
      "original_title     146123 non-null object\n",
      "start_year         146144 non-null int64\n",
      "runtime_minutes    114405 non-null float64\n",
      "genres             140736 non-null object\n",
      "dtypes: float64(1), int64(1), object(4)\n",
      "memory usage: 6.7+ MB\n"
     ]
    }
   ],
   "source": [
    "#checking data which includes genres\n",
    "df_title.info()"
   ]
  },
  {
   "cell_type": "code",
   "execution_count": 48,
   "metadata": {},
   "outputs": [],
   "source": [
    "#renaming the column so we can merge it with other data\n",
    "df_title_rename = df_title.rename(columns={\"original_title\": \"title\"})"
   ]
  },
  {
   "cell_type": "code",
   "execution_count": 49,
   "metadata": {},
   "outputs": [
    {
     "name": "stdout",
     "output_type": "stream",
     "text": [
      "<class 'pandas.core.frame.DataFrame'>\n",
      "RangeIndex: 146144 entries, 0 to 146143\n",
      "Data columns (total 6 columns):\n",
      "tconst             146144 non-null object\n",
      "primary_title      146144 non-null object\n",
      "title              146123 non-null object\n",
      "start_year         146144 non-null int64\n",
      "runtime_minutes    114405 non-null float64\n",
      "genres             140736 non-null object\n",
      "dtypes: float64(1), int64(1), object(4)\n",
      "memory usage: 6.7+ MB\n"
     ]
    }
   ],
   "source": [
    "#checking whether changes are done\n",
    "df_title_rename.info()"
   ]
  },
  {
   "cell_type": "code",
   "execution_count": 50,
   "metadata": {},
   "outputs": [
    {
     "name": "stdout",
     "output_type": "stream",
     "text": [
      "<class 'pandas.core.frame.DataFrame'>\n",
      "RangeIndex: 3387 entries, 0 to 3386\n",
      "Data columns (total 5 columns):\n",
      "title             3387 non-null object\n",
      "studio            3382 non-null object\n",
      "domestic_gross    3359 non-null float64\n",
      "foreign_gross     2037 non-null object\n",
      "year              3387 non-null int64\n",
      "dtypes: float64(1), int64(1), object(3)\n",
      "memory usage: 132.4+ KB\n"
     ]
    }
   ],
   "source": [
    "#checking for second dataframe to merge so we have financial with genres\n",
    "df_gross.info()"
   ]
  },
  {
   "cell_type": "code",
   "execution_count": 51,
   "metadata": {},
   "outputs": [],
   "source": [
    "#dropping empty values\n",
    "df_gross_nonna = df_gross.dropna()\n",
    "df_title_rename_na= df_title_rename.dropna()"
   ]
  },
  {
   "cell_type": "code",
   "execution_count": 52,
   "metadata": {},
   "outputs": [
    {
     "name": "stdout",
     "output_type": "stream",
     "text": [
      "<class 'pandas.core.frame.DataFrame'>\n",
      "Int64Index: 1638 entries, 0 to 1637\n",
      "Data columns (total 10 columns):\n",
      "title              1638 non-null object\n",
      "studio             1638 non-null object\n",
      "domestic_gross     1638 non-null float64\n",
      "foreign_gross      1638 non-null object\n",
      "year               1638 non-null int64\n",
      "tconst             1638 non-null object\n",
      "primary_title      1638 non-null object\n",
      "start_year         1638 non-null int64\n",
      "runtime_minutes    1638 non-null float64\n",
      "genres             1638 non-null object\n",
      "dtypes: float64(2), int64(2), object(6)\n",
      "memory usage: 140.8+ KB\n"
     ]
    }
   ],
   "source": [
    "#merging both dataframes using inner to avoid empty values\n",
    "merged_genres_income = pd.merge(df_gross_nonna, df_title_rename_na, how='inner', \n",
    "                                                            on= 'title')\n",
    "merged_genres_income.info()"
   ]
  },
  {
   "cell_type": "code",
   "execution_count": 53,
   "metadata": {},
   "outputs": [],
   "source": [
    "# we can see that foreign gross is type of object so let's change it to float\n",
    "merged_genres_income['foreign_gross']= merged_genres_income['foreign_gross'].str.replace(\",\",\"\").astype('float')"
   ]
  },
  {
   "cell_type": "code",
   "execution_count": 54,
   "metadata": {},
   "outputs": [
    {
     "name": "stdout",
     "output_type": "stream",
     "text": [
      "<class 'pandas.core.frame.DataFrame'>\n",
      "Int64Index: 1638 entries, 0 to 1637\n",
      "Data columns (total 10 columns):\n",
      "title              1638 non-null object\n",
      "studio             1638 non-null object\n",
      "domestic_gross     1638 non-null float64\n",
      "foreign_gross      1638 non-null float64\n",
      "year               1638 non-null int64\n",
      "tconst             1638 non-null object\n",
      "primary_title      1638 non-null object\n",
      "start_year         1638 non-null int64\n",
      "runtime_minutes    1638 non-null float64\n",
      "genres             1638 non-null object\n",
      "dtypes: float64(3), int64(2), object(5)\n",
      "memory usage: 140.8+ KB\n"
     ]
    }
   ],
   "source": [
    "#checking to see changes and yes foreign_gross is type float now\n",
    "merged_genres_income.info()"
   ]
  },
  {
   "cell_type": "code",
   "execution_count": 55,
   "metadata": {},
   "outputs": [],
   "source": [
    "#below code is grouping domestic income by specific range of genres\n",
    "domestic_gross_sum = merged_genres_income.groupby([\"genres\"]).domestic_gross.sum().reset_index()"
   ]
  },
  {
   "cell_type": "code",
   "execution_count": 56,
   "metadata": {},
   "outputs": [
    {
     "data": {
      "image/png": "[encoded data removed]",
      "text/plain": [
       "<Figure size 864x504 with 1 Axes>"
      ]
     },
     "metadata": {},
     "output_type": "display_data"
    }
   ],
   "source": [
    "fig = plt.figure(figsize=(12,7,))\n",
    "ax = fig.add_axes([0,0,1,1])\n",
    "sorted_val = domestic_gross_sum.sort_values(by='domestic_gross', ascending=False).head(5)\n",
    "genres = sorted_val['genres']\n",
    "dgross = sorted_val['domestic_gross']\n",
    "ax.bar(genres,dgross)\n",
    "\n",
    "\n",
    "plt.ylabel('Domestic gross')\n",
    "plt.title('Most profitable genres domestically')\n",
    "plt.show()"
   ]
  },
  {
   "cell_type": "raw",
   "metadata": {},
   "source": [
    "We can see that Action, Adventure, Sci-Fi and Action, Adventure, Comedy are doing the best domestically."
   ]
  },
  {
   "cell_type": "code",
   "execution_count": 57,
   "metadata": {},
   "outputs": [],
   "source": [
    "# calculating total income by adding domestic and foreign gross and then \n",
    "#grouping total income by seperate genres\n",
    "merged_genres_income['total_income']= merged_genres_income['domestic_gross'] + merged_genres_income['foreign_gross']\n",
    "total_income_sum = merged_genres_income.groupby([\"genres\"]).total_income.sum().reset_index()"
   ]
  },
  {
   "cell_type": "code",
   "execution_count": 58,
   "metadata": {},
   "outputs": [
    {
     "data": {
      "image/png": "[encoded data removed]",
      "text/plain": [
       "<Figure size 864x504 with 1 Axes>"
      ]
     },
     "metadata": {},
     "output_type": "display_data"
    }
   ],
   "source": [
    "#showing the results\n",
    "fig = plt.figure(figsize=(12,7,))\n",
    "ax = fig.add_axes([0,0,1,1])\n",
    "sorted_val = total_income_sum.sort_values(by='total_income', ascending=False).head(5)\n",
    "genres = sorted_val['genres']\n",
    "dgross = sorted_val['total_income']\n",
    "ax.bar(genres,dgross)\n",
    "\n",
    "plt.ylabel('Total income')\n",
    "plt.title('Most profitable genres in total')\n",
    "plt.show()"
   ]
  },
  {
   "cell_type": "raw",
   "metadata": {},
   "source": [
    "We can see that  Action, Adventure, Comedy and Action, Adventure, Sci-Fi are doing the best both domestically and in general."
   ]
  },
  {
   "cell_type": "code",
   "execution_count": 59,
   "metadata": {},
   "outputs": [
    {
     "data": {
      "text/html": [
       "<div>\n",
       "<style scoped>\n",
       "    .dataframe tbody tr th:only-of-type {\n",
       "        vertical-align: middle;\n",
       "    }\n",
       "\n",
       "    .dataframe tbody tr th {\n",
       "        vertical-align: top;\n",
       "    }\n",
       "\n",
       "    .dataframe thead th {\n",
       "        text-align: right;\n",
       "    }\n",
       "</style>\n",
       "<table border=\"1\" class=\"dataframe\">\n",
       "  <thead>\n",
       "    <tr style=\"text-align: right;\">\n",
       "      <th></th>\n",
       "      <th>title</th>\n",
       "      <th>studio</th>\n",
       "      <th>domestic_gross</th>\n",
       "      <th>foreign_gross</th>\n",
       "      <th>year</th>\n",
       "      <th>tconst</th>\n",
       "      <th>primary_title</th>\n",
       "      <th>start_year</th>\n",
       "      <th>runtime_minutes</th>\n",
       "      <th>genres</th>\n",
       "      <th>total_income</th>\n",
       "      <th>averagerating</th>\n",
       "      <th>numvotes</th>\n",
       "    </tr>\n",
       "  </thead>\n",
       "  <tbody>\n",
       "    <tr>\n",
       "      <td>0</td>\n",
       "      <td>Toy Story 3</td>\n",
       "      <td>BV</td>\n",
       "      <td>415000000.0</td>\n",
       "      <td>652000000.0</td>\n",
       "      <td>2010</td>\n",
       "      <td>tt0435761</td>\n",
       "      <td>Toy Story 3</td>\n",
       "      <td>2010</td>\n",
       "      <td>103.0</td>\n",
       "      <td>Adventure,Animation,Comedy</td>\n",
       "      <td>1.067000e+09</td>\n",
       "      <td>8.3</td>\n",
       "      <td>682218</td>\n",
       "    </tr>\n",
       "    <tr>\n",
       "      <td>1</td>\n",
       "      <td>Inception</td>\n",
       "      <td>WB</td>\n",
       "      <td>292600000.0</td>\n",
       "      <td>535700000.0</td>\n",
       "      <td>2010</td>\n",
       "      <td>tt1375666</td>\n",
       "      <td>Inception</td>\n",
       "      <td>2010</td>\n",
       "      <td>148.0</td>\n",
       "      <td>Action,Adventure,Sci-Fi</td>\n",
       "      <td>8.283000e+08</td>\n",
       "      <td>8.8</td>\n",
       "      <td>1841066</td>\n",
       "    </tr>\n",
       "    <tr>\n",
       "      <td>2</td>\n",
       "      <td>Shrek Forever After</td>\n",
       "      <td>P/DW</td>\n",
       "      <td>238700000.0</td>\n",
       "      <td>513900000.0</td>\n",
       "      <td>2010</td>\n",
       "      <td>tt0892791</td>\n",
       "      <td>Shrek Forever After</td>\n",
       "      <td>2010</td>\n",
       "      <td>93.0</td>\n",
       "      <td>Adventure,Animation,Comedy</td>\n",
       "      <td>7.526000e+08</td>\n",
       "      <td>6.3</td>\n",
       "      <td>167532</td>\n",
       "    </tr>\n",
       "    <tr>\n",
       "      <td>3</td>\n",
       "      <td>The Twilight Saga: Eclipse</td>\n",
       "      <td>Sum.</td>\n",
       "      <td>300500000.0</td>\n",
       "      <td>398000000.0</td>\n",
       "      <td>2010</td>\n",
       "      <td>tt1325004</td>\n",
       "      <td>The Twilight Saga: Eclipse</td>\n",
       "      <td>2010</td>\n",
       "      <td>124.0</td>\n",
       "      <td>Adventure,Drama,Fantasy</td>\n",
       "      <td>6.985000e+08</td>\n",
       "      <td>5.0</td>\n",
       "      <td>211733</td>\n",
       "    </tr>\n",
       "    <tr>\n",
       "      <td>4</td>\n",
       "      <td>Iron Man 2</td>\n",
       "      <td>Par.</td>\n",
       "      <td>312400000.0</td>\n",
       "      <td>311500000.0</td>\n",
       "      <td>2010</td>\n",
       "      <td>tt1228705</td>\n",
       "      <td>Iron Man 2</td>\n",
       "      <td>2010</td>\n",
       "      <td>124.0</td>\n",
       "      <td>Action,Adventure,Sci-Fi</td>\n",
       "      <td>6.239000e+08</td>\n",
       "      <td>7.0</td>\n",
       "      <td>657690</td>\n",
       "    </tr>\n",
       "  </tbody>\n",
       "</table>\n",
       "</div>"
      ],
      "text/plain": [
       "                        title studio  domestic_gross  foreign_gross  year  \\\n",
       "0                 Toy Story 3     BV     415000000.0    652000000.0  2010   \n",
       "1                   Inception     WB     292600000.0    535700000.0  2010   \n",
       "2         Shrek Forever After   P/DW     238700000.0    513900000.0  2010   \n",
       "3  The Twilight Saga: Eclipse   Sum.     300500000.0    398000000.0  2010   \n",
       "4                  Iron Man 2   Par.     312400000.0    311500000.0  2010   \n",
       "\n",
       "      tconst               primary_title  start_year  runtime_minutes  \\\n",
       "0  tt0435761                 Toy Story 3        2010            103.0   \n",
       "1  tt1375666                   Inception        2010            148.0   \n",
       "2  tt0892791         Shrek Forever After        2010             93.0   \n",
       "3  tt1325004  The Twilight Saga: Eclipse        2010            124.0   \n",
       "4  tt1228705                  Iron Man 2        2010            124.0   \n",
       "\n",
       "                       genres  total_income  averagerating  numvotes  \n",
       "0  Adventure,Animation,Comedy  1.067000e+09            8.3    682218  \n",
       "1     Action,Adventure,Sci-Fi  8.283000e+08            8.8   1841066  \n",
       "2  Adventure,Animation,Comedy  7.526000e+08            6.3    167532  \n",
       "3     Adventure,Drama,Fantasy  6.985000e+08            5.0    211733  \n",
       "4     Action,Adventure,Sci-Fi  6.239000e+08            7.0    657690  "
      ]
     },
     "execution_count": 59,
     "metadata": {},
     "output_type": "execute_result"
    }
   ],
   "source": [
    "#merging ratings with our current dataframe so we can get number of votes and avarage rating\n",
    "ratings_merged_income = pd.merge(merged_genres_income, df_ratings, how='inner',\n",
    "                                on='tconst')\n",
    "ratings_merged_income.head()"
   ]
  },
  {
   "cell_type": "code",
   "execution_count": 60,
   "metadata": {},
   "outputs": [
    {
     "data": {
      "image/png": "[encoded data removed]",
      "text/plain": [
       "<Figure size 1440x2880 with 1 Axes>"
      ]
     },
     "metadata": {},
     "output_type": "display_data"
    }
   ],
   "source": [
    "#showing connection between genres and ratings\n",
    "\n",
    "\n",
    "f, ax = plt.subplots(figsize=(20, 40))\n",
    "\n",
    "rate = ratings_merged_income.sort_values(\"averagerating\", ascending=False)\n",
    "\n",
    "#sns.set_color_codes(\"pastel\")\n",
    "splot1 = sns.barplot(x=\"averagerating\", y=\"genres\", data=rate,\n",
    "            label=\"Genres\", color=\"Green\", orient='h', ci= None)\n",
    "\n",
    "ax.set(ylim=(0, 50), xlim=(1, 10), ylabel=\"Genres\",\n",
    "       xlabel=\"Average Rating\")\n",
    "sns.despine(right=True, bottom=True)"
   ]
  },
  {
   "cell_type": "raw",
   "metadata": {},
   "source": [
    "Now let see whether higher rated movies are longer in runtime minutes or no."
   ]
  },
  {
   "cell_type": "code",
   "execution_count": 61,
   "metadata": {
    "scrolled": true
   },
   "outputs": [
    {
     "data": {
      "image/png": "[encoded data removed]",
      "text/plain": [
       "<Figure size 1440x1440 with 1 Axes>"
      ]
     },
     "metadata": {},
     "output_type": "display_data"
    }
   ],
   "source": [
    "\n",
    "f, ax = plt.subplots(figsize=(20, 20))\n",
    "\n",
    "above_7_5_rating = ratings_merged_income[ratings_merged_income[\"averagerating\"\n",
    "                                                            ] >= 7.5]\n",
    "\n",
    "rates = above_7_5_rating.sort_values(\"averagerating\", ascending=False)\n",
    "\n",
    "sns.set_color_codes(\"pastel\")\n",
    "splot = sns.barplot(y=\"averagerating\", x=\"runtime_minutes\", data=rates,\n",
    "             color=\"r\", orient='h', ci =None)\n",
    "\n",
    "# Add a legend and informative axis label\n",
    "\n",
    "ax.set(ylim=(0, 15),xlabel=\"Runtime minutes\",\n",
    "       ylabel=\"Average Rating\")\n",
    "\n",
    "sns.despine(right=True, bottom=True)"
   ]
  },
  {
   "cell_type": "code",
   "execution_count": 62,
   "metadata": {},
   "outputs": [],
   "source": [
    "above_7_5_rating = ratings_merged_income[ratings_merged_income[\"averagerating\"] >= 7.5]"
   ]
  },
  {
   "cell_type": "code",
   "execution_count": 63,
   "metadata": {},
   "outputs": [
    {
     "name": "stdout",
     "output_type": "stream",
     "text": [
      "<class 'pandas.core.frame.DataFrame'>\n",
      "Int64Index: 287 entries, 14 to 1498\n",
      "Data columns (total 13 columns):\n",
      "title              287 non-null object\n",
      "studio             287 non-null object\n",
      "domestic_gross     287 non-null float64\n",
      "foreign_gross      287 non-null float64\n",
      "year               287 non-null int64\n",
      "tconst             287 non-null object\n",
      "primary_title      287 non-null object\n",
      "start_year         287 non-null int64\n",
      "runtime_minutes    287 non-null float64\n",
      "genres             287 non-null object\n",
      "total_income       287 non-null float64\n",
      "averagerating      287 non-null float64\n",
      "numvotes           287 non-null int64\n",
      "dtypes: float64(5), int64(3), object(5)\n",
      "memory usage: 31.4+ KB\n"
     ]
    }
   ],
   "source": [
    "without_duplicatetitles = ratings_merged_income[ratings_merged_income['title'\n",
    "                    ].isin(ratings_merged_income[\n",
    "                    ratings_merged_income.duplicated(['title'])]['title'])]\n",
    "without_duplicatetitles.sort_values('title')\n",
    "without_duplicatetitles.info()"
   ]
  },
  {
   "cell_type": "code",
   "execution_count": 64,
   "metadata": {},
   "outputs": [
    {
     "data": {
      "text/plain": [
       "count    206.000000\n",
       "mean     116.247573\n",
       "std       24.750302\n",
       "min       44.000000\n",
       "25%      101.250000\n",
       "50%      115.000000\n",
       "75%      132.000000\n",
       "max      184.000000\n",
       "Name: runtime_minutes, dtype: float64"
      ]
     },
     "execution_count": 64,
     "metadata": {},
     "output_type": "execute_result"
    }
   ],
   "source": [
    "#We see that most highly rated movies are from 100 to 130 minutes\n",
    "above_7_5_rating['runtime_minutes'].describe()"
   ]
  },
  {
   "cell_type": "code",
   "execution_count": 65,
   "metadata": {},
   "outputs": [
    {
     "data": {
      "text/plain": [
       "<matplotlib.axes._subplots.AxesSubplot at 0x7ff27b4e2748>"
      ]
     },
     "execution_count": 65,
     "metadata": {},
     "output_type": "execute_result"
    },
    {
     "data": {
      "image/png": "[encoded data removed]",
      "text/plain": [
       "<Figure size 432x288 with 1 Axes>"
      ]
     },
     "metadata": {},
     "output_type": "display_data"
    }
   ],
   "source": [
    "above_7_5_rating['runtime_minutes'].hist(bins=10)"
   ]
  },
  {
   "cell_type": "code",
   "execution_count": 66,
   "metadata": {},
   "outputs": [
    {
     "data": {
      "text/html": [
       "<div>\n",
       "<style scoped>\n",
       "    .dataframe tbody tr th:only-of-type {\n",
       "        vertical-align: middle;\n",
       "    }\n",
       "\n",
       "    .dataframe tbody tr th {\n",
       "        vertical-align: top;\n",
       "    }\n",
       "\n",
       "    .dataframe thead th {\n",
       "        text-align: right;\n",
       "    }\n",
       "</style>\n",
       "<table border=\"1\" class=\"dataframe\">\n",
       "  <thead>\n",
       "    <tr style=\"text-align: right;\">\n",
       "      <th></th>\n",
       "      <th>movie</th>\n",
       "      <th>genre</th>\n",
       "    </tr>\n",
       "  </thead>\n",
       "  <tbody>\n",
       "    <tr>\n",
       "      <td>0</td>\n",
       "      <td>Toy Story 3</td>\n",
       "      <td>Adventure</td>\n",
       "    </tr>\n",
       "    <tr>\n",
       "      <td>1</td>\n",
       "      <td>Toy Story 3</td>\n",
       "      <td>Animation</td>\n",
       "    </tr>\n",
       "    <tr>\n",
       "      <td>2</td>\n",
       "      <td>Toy Story 3</td>\n",
       "      <td>Comedy</td>\n",
       "    </tr>\n",
       "    <tr>\n",
       "      <td>0</td>\n",
       "      <td>Inception</td>\n",
       "      <td>Action</td>\n",
       "    </tr>\n",
       "    <tr>\n",
       "      <td>1</td>\n",
       "      <td>Inception</td>\n",
       "      <td>Adventure</td>\n",
       "    </tr>\n",
       "    <tr>\n",
       "      <td>2</td>\n",
       "      <td>Inception</td>\n",
       "      <td>Sci-Fi</td>\n",
       "    </tr>\n",
       "    <tr>\n",
       "      <td>0</td>\n",
       "      <td>Tangled</td>\n",
       "      <td>Adventure</td>\n",
       "    </tr>\n",
       "    <tr>\n",
       "      <td>1</td>\n",
       "      <td>Tangled</td>\n",
       "      <td>Animation</td>\n",
       "    </tr>\n",
       "    <tr>\n",
       "      <td>2</td>\n",
       "      <td>Tangled</td>\n",
       "      <td>Comedy</td>\n",
       "    </tr>\n",
       "    <tr>\n",
       "      <td>0</td>\n",
       "      <td>Despicable Me</td>\n",
       "      <td>Animation</td>\n",
       "    </tr>\n",
       "    <tr>\n",
       "      <td>1</td>\n",
       "      <td>Despicable Me</td>\n",
       "      <td>Comedy</td>\n",
       "    </tr>\n",
       "    <tr>\n",
       "      <td>2</td>\n",
       "      <td>Despicable Me</td>\n",
       "      <td>Family</td>\n",
       "    </tr>\n",
       "    <tr>\n",
       "      <td>0</td>\n",
       "      <td>How to Train Your Dragon</td>\n",
       "      <td>Action</td>\n",
       "    </tr>\n",
       "    <tr>\n",
       "      <td>1</td>\n",
       "      <td>How to Train Your Dragon</td>\n",
       "      <td>Adventure</td>\n",
       "    </tr>\n",
       "    <tr>\n",
       "      <td>2</td>\n",
       "      <td>How to Train Your Dragon</td>\n",
       "      <td>Animation</td>\n",
       "    </tr>\n",
       "    <tr>\n",
       "      <td>0</td>\n",
       "      <td>The King's Speech</td>\n",
       "      <td>Biography</td>\n",
       "    </tr>\n",
       "    <tr>\n",
       "      <td>1</td>\n",
       "      <td>The King's Speech</td>\n",
       "      <td>Drama</td>\n",
       "    </tr>\n",
       "    <tr>\n",
       "      <td>2</td>\n",
       "      <td>The King's Speech</td>\n",
       "      <td>History</td>\n",
       "    </tr>\n",
       "    <tr>\n",
       "      <td>0</td>\n",
       "      <td>Black Swan</td>\n",
       "      <td>Drama</td>\n",
       "    </tr>\n",
       "    <tr>\n",
       "      <td>1</td>\n",
       "      <td>Black Swan</td>\n",
       "      <td>Thriller</td>\n",
       "    </tr>\n",
       "    <tr>\n",
       "      <td>0</td>\n",
       "      <td>Shutter Island</td>\n",
       "      <td>Mystery</td>\n",
       "    </tr>\n",
       "    <tr>\n",
       "      <td>1</td>\n",
       "      <td>Shutter Island</td>\n",
       "      <td>Thriller</td>\n",
       "    </tr>\n",
       "    <tr>\n",
       "      <td>0</td>\n",
       "      <td>True Grit</td>\n",
       "      <td>Adventure</td>\n",
       "    </tr>\n",
       "    <tr>\n",
       "      <td>1</td>\n",
       "      <td>True Grit</td>\n",
       "      <td>Drama</td>\n",
       "    </tr>\n",
       "    <tr>\n",
       "      <td>2</td>\n",
       "      <td>True Grit</td>\n",
       "      <td>Western</td>\n",
       "    </tr>\n",
       "    <tr>\n",
       "      <td>0</td>\n",
       "      <td>The Social Network</td>\n",
       "      <td>Biography</td>\n",
       "    </tr>\n",
       "    <tr>\n",
       "      <td>1</td>\n",
       "      <td>The Social Network</td>\n",
       "      <td>Drama</td>\n",
       "    </tr>\n",
       "    <tr>\n",
       "      <td>0</td>\n",
       "      <td>Red</td>\n",
       "      <td>Drama</td>\n",
       "    </tr>\n",
       "    <tr>\n",
       "      <td>0</td>\n",
       "      <td>Red</td>\n",
       "      <td>Drama</td>\n",
       "    </tr>\n",
       "    <tr>\n",
       "      <td>0</td>\n",
       "      <td>Unstoppable</td>\n",
       "      <td>Documentary</td>\n",
       "    </tr>\n",
       "    <tr>\n",
       "      <td>0</td>\n",
       "      <td>The Town</td>\n",
       "      <td>Crime</td>\n",
       "    </tr>\n",
       "    <tr>\n",
       "      <td>1</td>\n",
       "      <td>The Town</td>\n",
       "      <td>Drama</td>\n",
       "    </tr>\n",
       "    <tr>\n",
       "      <td>2</td>\n",
       "      <td>The Town</td>\n",
       "      <td>Thriller</td>\n",
       "    </tr>\n",
       "    <tr>\n",
       "      <td>0</td>\n",
       "      <td>The Fighter</td>\n",
       "      <td>Biography</td>\n",
       "    </tr>\n",
       "    <tr>\n",
       "      <td>1</td>\n",
       "      <td>The Fighter</td>\n",
       "      <td>Drama</td>\n",
       "    </tr>\n",
       "    <tr>\n",
       "      <td>2</td>\n",
       "      <td>The Fighter</td>\n",
       "      <td>Sport</td>\n",
       "    </tr>\n",
       "    <tr>\n",
       "      <td>0</td>\n",
       "      <td>The Girl with the Dragon Tattoo</td>\n",
       "      <td>Crime</td>\n",
       "    </tr>\n",
       "    <tr>\n",
       "      <td>1</td>\n",
       "      <td>The Girl with the Dragon Tattoo</td>\n",
       "      <td>Drama</td>\n",
       "    </tr>\n",
       "    <tr>\n",
       "      <td>2</td>\n",
       "      <td>The Girl with the Dragon Tattoo</td>\n",
       "      <td>Mystery</td>\n",
       "    </tr>\n",
       "    <tr>\n",
       "      <td>0</td>\n",
       "      <td>Kick-Ass</td>\n",
       "      <td>Action</td>\n",
       "    </tr>\n",
       "    <tr>\n",
       "      <td>1</td>\n",
       "      <td>Kick-Ass</td>\n",
       "      <td>Comedy</td>\n",
       "    </tr>\n",
       "    <tr>\n",
       "      <td>0</td>\n",
       "      <td>Hubble</td>\n",
       "      <td>Documentary</td>\n",
       "    </tr>\n",
       "    <tr>\n",
       "      <td>0</td>\n",
       "      <td>127 Hours</td>\n",
       "      <td>Adventure</td>\n",
       "    </tr>\n",
       "    <tr>\n",
       "      <td>1</td>\n",
       "      <td>127 Hours</td>\n",
       "      <td>Biography</td>\n",
       "    </tr>\n",
       "    <tr>\n",
       "      <td>2</td>\n",
       "      <td>127 Hours</td>\n",
       "      <td>Drama</td>\n",
       "    </tr>\n",
       "    <tr>\n",
       "      <td>0</td>\n",
       "      <td>Scott Pilgrim vs. the World</td>\n",
       "      <td>Action</td>\n",
       "    </tr>\n",
       "    <tr>\n",
       "      <td>1</td>\n",
       "      <td>Scott Pilgrim vs. the World</td>\n",
       "      <td>Comedy</td>\n",
       "    </tr>\n",
       "    <tr>\n",
       "      <td>2</td>\n",
       "      <td>Scott Pilgrim vs. the World</td>\n",
       "      <td>Fantasy</td>\n",
       "    </tr>\n",
       "    <tr>\n",
       "      <td>0</td>\n",
       "      <td>Inside Job</td>\n",
       "      <td>Crime</td>\n",
       "    </tr>\n",
       "    <tr>\n",
       "      <td>1</td>\n",
       "      <td>Inside Job</td>\n",
       "      <td>Documentary</td>\n",
       "    </tr>\n",
       "  </tbody>\n",
       "</table>\n",
       "</div>"
      ],
      "text/plain": [
       "                             movie        genre\n",
       "0                      Toy Story 3    Adventure\n",
       "1                      Toy Story 3    Animation\n",
       "2                      Toy Story 3       Comedy\n",
       "0                        Inception       Action\n",
       "1                        Inception    Adventure\n",
       "2                        Inception       Sci-Fi\n",
       "0                          Tangled    Adventure\n",
       "1                          Tangled    Animation\n",
       "2                          Tangled       Comedy\n",
       "0                    Despicable Me    Animation\n",
       "1                    Despicable Me       Comedy\n",
       "2                    Despicable Me       Family\n",
       "0         How to Train Your Dragon       Action\n",
       "1         How to Train Your Dragon    Adventure\n",
       "2         How to Train Your Dragon    Animation\n",
       "0                The King's Speech    Biography\n",
       "1                The King's Speech        Drama\n",
       "2                The King's Speech      History\n",
       "0                       Black Swan        Drama\n",
       "1                       Black Swan     Thriller\n",
       "0                   Shutter Island      Mystery\n",
       "1                   Shutter Island     Thriller\n",
       "0                        True Grit    Adventure\n",
       "1                        True Grit        Drama\n",
       "2                        True Grit      Western\n",
       "0               The Social Network    Biography\n",
       "1               The Social Network        Drama\n",
       "0                              Red        Drama\n",
       "0                              Red        Drama\n",
       "0                      Unstoppable  Documentary\n",
       "0                         The Town        Crime\n",
       "1                         The Town        Drama\n",
       "2                         The Town     Thriller\n",
       "0                      The Fighter    Biography\n",
       "1                      The Fighter        Drama\n",
       "2                      The Fighter        Sport\n",
       "0  The Girl with the Dragon Tattoo        Crime\n",
       "1  The Girl with the Dragon Tattoo        Drama\n",
       "2  The Girl with the Dragon Tattoo      Mystery\n",
       "0                         Kick-Ass       Action\n",
       "1                         Kick-Ass       Comedy\n",
       "0                           Hubble  Documentary\n",
       "0                        127 Hours    Adventure\n",
       "1                        127 Hours    Biography\n",
       "2                        127 Hours        Drama\n",
       "0      Scott Pilgrim vs. the World       Action\n",
       "1      Scott Pilgrim vs. the World       Comedy\n",
       "2      Scott Pilgrim vs. the World      Fantasy\n",
       "0                       Inside Job        Crime\n",
       "1                       Inside Job  Documentary"
      ]
     },
     "execution_count": 66,
     "metadata": {},
     "output_type": "execute_result"
    }
   ],
   "source": [
    "movie_genres = above_7_5_rating.set_index('primary_title').genres.str.split(',', expand=True).stack().reset_index('primary_title')\n",
    "movie_genres.columns = ['movie', 'genre']\n",
    "movie_genres.head(50)"
   ]
  },
  {
   "cell_type": "code",
   "execution_count": 67,
   "metadata": {},
   "outputs": [],
   "source": [
    "profitability_genres = movie_genres.merge(df_budjets, how='left', on='movie')"
   ]
  },
  {
   "cell_type": "code",
   "execution_count": 68,
   "metadata": {},
   "outputs": [
    {
     "data": {
      "text/plain": [
       "False    411\n",
       "True     100\n",
       "Name: net_income, dtype: int64"
      ]
     },
     "execution_count": 68,
     "metadata": {},
     "output_type": "execute_result"
    }
   ],
   "source": [
    "\n",
    "profitability_genres['net_income'].isna().value_counts()"
   ]
  },
  {
   "cell_type": "code",
   "execution_count": 69,
   "metadata": {},
   "outputs": [
    {
     "data": {
      "text/html": [
       "<div>\n",
       "<style scoped>\n",
       "    .dataframe tbody tr th:only-of-type {\n",
       "        vertical-align: middle;\n",
       "    }\n",
       "\n",
       "    .dataframe tbody tr th {\n",
       "        vertical-align: top;\n",
       "    }\n",
       "\n",
       "    .dataframe thead th {\n",
       "        text-align: right;\n",
       "    }\n",
       "</style>\n",
       "<table border=\"1\" class=\"dataframe\">\n",
       "  <thead>\n",
       "    <tr style=\"text-align: right;\">\n",
       "      <th></th>\n",
       "      <th>movie</th>\n",
       "      <th>genre</th>\n",
       "      <th>id</th>\n",
       "      <th>release_date</th>\n",
       "      <th>production_budget</th>\n",
       "      <th>domestic_gross</th>\n",
       "      <th>worldwide_gross</th>\n",
       "      <th>release_year</th>\n",
       "      <th>release_month</th>\n",
       "      <th>ROI_worldwide</th>\n",
       "      <th>ROI_domestic</th>\n",
       "      <th>net_income</th>\n",
       "      <th>PB_ranges</th>\n",
       "      <th>profitable</th>\n",
       "    </tr>\n",
       "  </thead>\n",
       "  <tbody>\n",
       "    <tr>\n",
       "      <td>0</td>\n",
       "      <td>Toy Story 3</td>\n",
       "      <td>Adventure</td>\n",
       "      <td>47.0</td>\n",
       "      <td>2010-06-18</td>\n",
       "      <td>200000000.0</td>\n",
       "      <td>415004880.0</td>\n",
       "      <td>1.068880e+09</td>\n",
       "      <td>2010.0</td>\n",
       "      <td>6.0</td>\n",
       "      <td>4.344398</td>\n",
       "      <td>1.075024</td>\n",
       "      <td>1.283884e+09</td>\n",
       "      <td>$90-100M</td>\n",
       "      <td>Yes</td>\n",
       "    </tr>\n",
       "    <tr>\n",
       "      <td>1</td>\n",
       "      <td>Toy Story 3</td>\n",
       "      <td>Animation</td>\n",
       "      <td>47.0</td>\n",
       "      <td>2010-06-18</td>\n",
       "      <td>200000000.0</td>\n",
       "      <td>415004880.0</td>\n",
       "      <td>1.068880e+09</td>\n",
       "      <td>2010.0</td>\n",
       "      <td>6.0</td>\n",
       "      <td>4.344398</td>\n",
       "      <td>1.075024</td>\n",
       "      <td>1.283884e+09</td>\n",
       "      <td>$90-100M</td>\n",
       "      <td>Yes</td>\n",
       "    </tr>\n",
       "    <tr>\n",
       "      <td>2</td>\n",
       "      <td>Toy Story 3</td>\n",
       "      <td>Comedy</td>\n",
       "      <td>47.0</td>\n",
       "      <td>2010-06-18</td>\n",
       "      <td>200000000.0</td>\n",
       "      <td>415004880.0</td>\n",
       "      <td>1.068880e+09</td>\n",
       "      <td>2010.0</td>\n",
       "      <td>6.0</td>\n",
       "      <td>4.344398</td>\n",
       "      <td>1.075024</td>\n",
       "      <td>1.283884e+09</td>\n",
       "      <td>$90-100M</td>\n",
       "      <td>Yes</td>\n",
       "    </tr>\n",
       "    <tr>\n",
       "      <td>3</td>\n",
       "      <td>Inception</td>\n",
       "      <td>Action</td>\n",
       "      <td>38.0</td>\n",
       "      <td>2010-07-16</td>\n",
       "      <td>160000000.0</td>\n",
       "      <td>292576195.0</td>\n",
       "      <td>8.355246e+08</td>\n",
       "      <td>2010.0</td>\n",
       "      <td>7.0</td>\n",
       "      <td>4.222029</td>\n",
       "      <td>0.828601</td>\n",
       "      <td>9.681008e+08</td>\n",
       "      <td>$90-100M</td>\n",
       "      <td>Yes</td>\n",
       "    </tr>\n",
       "    <tr>\n",
       "      <td>4</td>\n",
       "      <td>Inception</td>\n",
       "      <td>Adventure</td>\n",
       "      <td>38.0</td>\n",
       "      <td>2010-07-16</td>\n",
       "      <td>160000000.0</td>\n",
       "      <td>292576195.0</td>\n",
       "      <td>8.355246e+08</td>\n",
       "      <td>2010.0</td>\n",
       "      <td>7.0</td>\n",
       "      <td>4.222029</td>\n",
       "      <td>0.828601</td>\n",
       "      <td>9.681008e+08</td>\n",
       "      <td>$90-100M</td>\n",
       "      <td>Yes</td>\n",
       "    </tr>\n",
       "    <tr>\n",
       "      <td>...</td>\n",
       "      <td>...</td>\n",
       "      <td>...</td>\n",
       "      <td>...</td>\n",
       "      <td>...</td>\n",
       "      <td>...</td>\n",
       "      <td>...</td>\n",
       "      <td>...</td>\n",
       "      <td>...</td>\n",
       "      <td>...</td>\n",
       "      <td>...</td>\n",
       "      <td>...</td>\n",
       "      <td>...</td>\n",
       "      <td>...</td>\n",
       "      <td>...</td>\n",
       "    </tr>\n",
       "    <tr>\n",
       "      <td>504</td>\n",
       "      <td>Kin</td>\n",
       "      <td>Drama</td>\n",
       "      <td>88.0</td>\n",
       "      <td>2018-08-31</td>\n",
       "      <td>30000000.0</td>\n",
       "      <td>5718096.0</td>\n",
       "      <td>1.009682e+07</td>\n",
       "      <td>2018.0</td>\n",
       "      <td>8.0</td>\n",
       "      <td>-0.663439</td>\n",
       "      <td>-0.809397</td>\n",
       "      <td>-1.418508e+07</td>\n",
       "      <td>$20-30M</td>\n",
       "      <td>No</td>\n",
       "    </tr>\n",
       "    <tr>\n",
       "      <td>505</td>\n",
       "      <td>Kin</td>\n",
       "      <td>Music</td>\n",
       "      <td>88.0</td>\n",
       "      <td>2018-08-31</td>\n",
       "      <td>30000000.0</td>\n",
       "      <td>5718096.0</td>\n",
       "      <td>1.009682e+07</td>\n",
       "      <td>2018.0</td>\n",
       "      <td>8.0</td>\n",
       "      <td>-0.663439</td>\n",
       "      <td>-0.809397</td>\n",
       "      <td>-1.418508e+07</td>\n",
       "      <td>$20-30M</td>\n",
       "      <td>No</td>\n",
       "    </tr>\n",
       "    <tr>\n",
       "      <td>508</td>\n",
       "      <td>Bilal: A New Breed of Hero</td>\n",
       "      <td>Action</td>\n",
       "      <td>100.0</td>\n",
       "      <td>2018-02-02</td>\n",
       "      <td>30000000.0</td>\n",
       "      <td>490973.0</td>\n",
       "      <td>6.485990e+05</td>\n",
       "      <td>2018.0</td>\n",
       "      <td>2.0</td>\n",
       "      <td>-0.978380</td>\n",
       "      <td>-0.983634</td>\n",
       "      <td>-2.886043e+07</td>\n",
       "      <td>$20-30M</td>\n",
       "      <td>No</td>\n",
       "    </tr>\n",
       "    <tr>\n",
       "      <td>509</td>\n",
       "      <td>Bilal: A New Breed of Hero</td>\n",
       "      <td>Adventure</td>\n",
       "      <td>100.0</td>\n",
       "      <td>2018-02-02</td>\n",
       "      <td>30000000.0</td>\n",
       "      <td>490973.0</td>\n",
       "      <td>6.485990e+05</td>\n",
       "      <td>2018.0</td>\n",
       "      <td>2.0</td>\n",
       "      <td>-0.978380</td>\n",
       "      <td>-0.983634</td>\n",
       "      <td>-2.886043e+07</td>\n",
       "      <td>$20-30M</td>\n",
       "      <td>No</td>\n",
       "    </tr>\n",
       "    <tr>\n",
       "      <td>510</td>\n",
       "      <td>Bilal: A New Breed of Hero</td>\n",
       "      <td>Animation</td>\n",
       "      <td>100.0</td>\n",
       "      <td>2018-02-02</td>\n",
       "      <td>30000000.0</td>\n",
       "      <td>490973.0</td>\n",
       "      <td>6.485990e+05</td>\n",
       "      <td>2018.0</td>\n",
       "      <td>2.0</td>\n",
       "      <td>-0.978380</td>\n",
       "      <td>-0.983634</td>\n",
       "      <td>-2.886043e+07</td>\n",
       "      <td>$20-30M</td>\n",
       "      <td>No</td>\n",
       "    </tr>\n",
       "  </tbody>\n",
       "</table>\n",
       "<p>411 rows × 14 columns</p>\n",
       "</div>"
      ],
      "text/plain": [
       "                          movie      genre     id release_date  \\\n",
       "0                   Toy Story 3  Adventure   47.0   2010-06-18   \n",
       "1                   Toy Story 3  Animation   47.0   2010-06-18   \n",
       "2                   Toy Story 3     Comedy   47.0   2010-06-18   \n",
       "3                     Inception     Action   38.0   2010-07-16   \n",
       "4                     Inception  Adventure   38.0   2010-07-16   \n",
       "..                          ...        ...    ...          ...   \n",
       "504                         Kin      Drama   88.0   2018-08-31   \n",
       "505                         Kin      Music   88.0   2018-08-31   \n",
       "508  Bilal: A New Breed of Hero     Action  100.0   2018-02-02   \n",
       "509  Bilal: A New Breed of Hero  Adventure  100.0   2018-02-02   \n",
       "510  Bilal: A New Breed of Hero  Animation  100.0   2018-02-02   \n",
       "\n",
       "     production_budget  domestic_gross  worldwide_gross  release_year  \\\n",
       "0          200000000.0     415004880.0     1.068880e+09        2010.0   \n",
       "1          200000000.0     415004880.0     1.068880e+09        2010.0   \n",
       "2          200000000.0     415004880.0     1.068880e+09        2010.0   \n",
       "3          160000000.0     292576195.0     8.355246e+08        2010.0   \n",
       "4          160000000.0     292576195.0     8.355246e+08        2010.0   \n",
       "..                 ...             ...              ...           ...   \n",
       "504         30000000.0       5718096.0     1.009682e+07        2018.0   \n",
       "505         30000000.0       5718096.0     1.009682e+07        2018.0   \n",
       "508         30000000.0        490973.0     6.485990e+05        2018.0   \n",
       "509         30000000.0        490973.0     6.485990e+05        2018.0   \n",
       "510         30000000.0        490973.0     6.485990e+05        2018.0   \n",
       "\n",
       "     release_month  ROI_worldwide  ROI_domestic    net_income PB_ranges  \\\n",
       "0              6.0       4.344398      1.075024  1.283884e+09  $90-100M   \n",
       "1              6.0       4.344398      1.075024  1.283884e+09  $90-100M   \n",
       "2              6.0       4.344398      1.075024  1.283884e+09  $90-100M   \n",
       "3              7.0       4.222029      0.828601  9.681008e+08  $90-100M   \n",
       "4              7.0       4.222029      0.828601  9.681008e+08  $90-100M   \n",
       "..             ...            ...           ...           ...       ...   \n",
       "504            8.0      -0.663439     -0.809397 -1.418508e+07   $20-30M   \n",
       "505            8.0      -0.663439     -0.809397 -1.418508e+07   $20-30M   \n",
       "508            2.0      -0.978380     -0.983634 -2.886043e+07   $20-30M   \n",
       "509            2.0      -0.978380     -0.983634 -2.886043e+07   $20-30M   \n",
       "510            2.0      -0.978380     -0.983634 -2.886043e+07   $20-30M   \n",
       "\n",
       "    profitable  \n",
       "0          Yes  \n",
       "1          Yes  \n",
       "2          Yes  \n",
       "3          Yes  \n",
       "4          Yes  \n",
       "..         ...  \n",
       "504         No  \n",
       "505         No  \n",
       "508         No  \n",
       "509         No  \n",
       "510         No  \n",
       "\n",
       "[411 rows x 14 columns]"
      ]
     },
     "execution_count": 69,
     "metadata": {},
     "output_type": "execute_result"
    }
   ],
   "source": [
    "profitability_genres = profitability_genres.dropna()\n",
    "profitability_genres\n"
   ]
  },
  {
   "cell_type": "code",
   "execution_count": 70,
   "metadata": {},
   "outputs": [
    {
     "data": {
      "text/html": [
       "<div>\n",
       "<style scoped>\n",
       "    .dataframe tbody tr th:only-of-type {\n",
       "        vertical-align: middle;\n",
       "    }\n",
       "\n",
       "    .dataframe tbody tr th {\n",
       "        vertical-align: top;\n",
       "    }\n",
       "\n",
       "    .dataframe thead th {\n",
       "        text-align: right;\n",
       "    }\n",
       "</style>\n",
       "<table border=\"1\" class=\"dataframe\">\n",
       "  <thead>\n",
       "    <tr style=\"text-align: right;\">\n",
       "      <th></th>\n",
       "      <th>genre</th>\n",
       "      <th>net_income</th>\n",
       "    </tr>\n",
       "  </thead>\n",
       "  <tbody>\n",
       "    <tr>\n",
       "      <td>1</td>\n",
       "      <td>Adventure</td>\n",
       "      <td>7.517231e+08</td>\n",
       "    </tr>\n",
       "    <tr>\n",
       "      <td>2</td>\n",
       "      <td>Animation</td>\n",
       "      <td>7.500228e+08</td>\n",
       "    </tr>\n",
       "    <tr>\n",
       "      <td>16</td>\n",
       "      <td>Sci-Fi</td>\n",
       "      <td>6.792098e+08</td>\n",
       "    </tr>\n",
       "    <tr>\n",
       "      <td>0</td>\n",
       "      <td>Action</td>\n",
       "      <td>6.300795e+08</td>\n",
       "    </tr>\n",
       "    <tr>\n",
       "      <td>9</td>\n",
       "      <td>Fantasy</td>\n",
       "      <td>5.976864e+08</td>\n",
       "    </tr>\n",
       "    <tr>\n",
       "      <td>8</td>\n",
       "      <td>Family</td>\n",
       "      <td>5.717314e+08</td>\n",
       "    </tr>\n",
       "    <tr>\n",
       "      <td>13</td>\n",
       "      <td>Musical</td>\n",
       "      <td>4.770057e+08</td>\n",
       "    </tr>\n",
       "    <tr>\n",
       "      <td>20</td>\n",
       "      <td>Western</td>\n",
       "      <td>4.506368e+08</td>\n",
       "    </tr>\n",
       "    <tr>\n",
       "      <td>4</td>\n",
       "      <td>Comedy</td>\n",
       "      <td>4.447857e+08</td>\n",
       "    </tr>\n",
       "    <tr>\n",
       "      <td>11</td>\n",
       "      <td>Horror</td>\n",
       "      <td>3.629580e+08</td>\n",
       "    </tr>\n",
       "    <tr>\n",
       "      <td>18</td>\n",
       "      <td>Thriller</td>\n",
       "      <td>3.575987e+08</td>\n",
       "    </tr>\n",
       "    <tr>\n",
       "      <td>10</td>\n",
       "      <td>History</td>\n",
       "      <td>3.453690e+08</td>\n",
       "    </tr>\n",
       "    <tr>\n",
       "      <td>12</td>\n",
       "      <td>Music</td>\n",
       "      <td>3.367018e+08</td>\n",
       "    </tr>\n",
       "    <tr>\n",
       "      <td>3</td>\n",
       "      <td>Biography</td>\n",
       "      <td>2.843417e+08</td>\n",
       "    </tr>\n",
       "    <tr>\n",
       "      <td>6</td>\n",
       "      <td>Documentary</td>\n",
       "      <td>2.415241e+08</td>\n",
       "    </tr>\n",
       "    <tr>\n",
       "      <td>14</td>\n",
       "      <td>Mystery</td>\n",
       "      <td>2.307300e+08</td>\n",
       "    </tr>\n",
       "    <tr>\n",
       "      <td>7</td>\n",
       "      <td>Drama</td>\n",
       "      <td>2.179546e+08</td>\n",
       "    </tr>\n",
       "    <tr>\n",
       "      <td>5</td>\n",
       "      <td>Crime</td>\n",
       "      <td>1.872022e+08</td>\n",
       "    </tr>\n",
       "    <tr>\n",
       "      <td>17</td>\n",
       "      <td>Sport</td>\n",
       "      <td>1.181983e+08</td>\n",
       "    </tr>\n",
       "    <tr>\n",
       "      <td>15</td>\n",
       "      <td>Romance</td>\n",
       "      <td>9.364048e+07</td>\n",
       "    </tr>\n",
       "  </tbody>\n",
       "</table>\n",
       "</div>"
      ],
      "text/plain": [
       "          genre    net_income\n",
       "1     Adventure  7.517231e+08\n",
       "2     Animation  7.500228e+08\n",
       "16       Sci-Fi  6.792098e+08\n",
       "0        Action  6.300795e+08\n",
       "9       Fantasy  5.976864e+08\n",
       "8        Family  5.717314e+08\n",
       "13      Musical  4.770057e+08\n",
       "20      Western  4.506368e+08\n",
       "4        Comedy  4.447857e+08\n",
       "11       Horror  3.629580e+08\n",
       "18     Thriller  3.575987e+08\n",
       "10      History  3.453690e+08\n",
       "12        Music  3.367018e+08\n",
       "3     Biography  2.843417e+08\n",
       "6   Documentary  2.415241e+08\n",
       "14      Mystery  2.307300e+08\n",
       "7         Drama  2.179546e+08\n",
       "5         Crime  1.872022e+08\n",
       "17        Sport  1.181983e+08\n",
       "15      Romance  9.364048e+07"
      ]
     },
     "execution_count": 70,
     "metadata": {},
     "output_type": "execute_result"
    }
   ],
   "source": [
    "profitability_genres_mean = profitability_genres.groupby('genre'\n",
    "                        ).net_income.agg('mean').reset_index().sort_values(\n",
    "                                   'net_income', ascending=False).head(20)\n",
    "profitability_genres_mean"
   ]
  },
  {
   "cell_type": "code",
   "execution_count": 71,
   "metadata": {},
   "outputs": [
    {
     "ename": "NameError",
     "evalue": "name 'unique_genre' is not defined",
     "output_type": "error",
     "traceback": [
      "\u001b[0;31m---------------------------------------------------------------------------\u001b[0m",
      "\u001b[0;31mNameError\u001b[0m                                 Traceback (most recent call last)",
      "\u001b[0;32m<ipython-input-71-d15abf0e6618>\u001b[0m in \u001b[0;36m<module>\u001b[0;34m\u001b[0m\n\u001b[1;32m      5\u001b[0m \u001b[0;34m\u001b[0m\u001b[0m\n\u001b[1;32m      6\u001b[0m \u001b[0munique_genres\u001b[0m \u001b[0;34m=\u001b[0m \u001b[0mlist\u001b[0m\u001b[0;34m(\u001b[0m\u001b[0mset\u001b[0m\u001b[0;34m(\u001b[0m\u001b[0mseperated_genres_list\u001b[0m\u001b[0;34m)\u001b[0m\u001b[0;34m)\u001b[0m\u001b[0;34m\u001b[0m\u001b[0;34m\u001b[0m\u001b[0m\n\u001b[0;32m----> 7\u001b[0;31m \u001b[0munique_genres\u001b[0m \u001b[0;34m=\u001b[0m \u001b[0;34m[\u001b[0m\u001b[0mgenre\u001b[0m \u001b[0;32mfor\u001b[0m \u001b[0mgenre\u001b[0m \u001b[0;32min\u001b[0m \u001b[0munique_genre\u001b[0m \u001b[0;32mif\u001b[0m \u001b[0;32mnot\u001b[0m \u001b[0mgenre\u001b[0m \u001b[0;34m==\u001b[0m \u001b[0;34m'nan'\u001b[0m\u001b[0;34m]\u001b[0m\u001b[0;34m\u001b[0m\u001b[0;34m\u001b[0m\u001b[0m\n\u001b[0m",
      "\u001b[0;31mNameError\u001b[0m: name 'unique_genre' is not defined"
     ]
    }
   ],
   "source": [
    "#now let see highly rated genres in groups\n",
    "seperated_genres_list = []\n",
    "for genres in above_7_5_rating['genres']:\n",
    "    seperated_genres_list.extend(genres.split(','))\n",
    "    \n",
    "unique_genres = list(set(seperated_genres_list))\n",
    "unique_genres = [genre for genre in unique_genre if not genre == 'nan']"
   ]
  },
  {
   "cell_type": "code",
   "execution_count": 72,
   "metadata": {},
   "outputs": [
    {
     "data": {
      "image/png": "[encoded data removed]",
      "text/plain": [
       "<Figure size 1080x504 with 1 Axes>"
      ]
     },
     "metadata": {},
     "output_type": "display_data"
    }
   ],
   "source": [
    "results = []\n",
    "for genre in sorted(unique_genres):\n",
    "    result = profitability_genres[profitability_genres['genre'].str.contains(genre)]['id'].count()\n",
    "    results.append(result)\n",
    "\n",
    "output = pd.DataFrame({'Count': results}, index=unique_genres)\n",
    "\n",
    "\n",
    "fig, ax = plt.subplots(figsize=(15,7))\n",
    "output.plot.bar(ax=ax)\n",
    "ax.set_title('Number of Movies Released by Genre')\n",
    "plt.show()"
   ]
  },
  {
   "cell_type": "code",
   "execution_count": 73,
   "metadata": {},
   "outputs": [
    {
     "data": {
      "image/png": "[encoded data removed]",
      "text/plain": [
       "<Figure size 1080x504 with 1 Axes>"
      ]
     },
     "metadata": {},
     "output_type": "display_data"
    }
   ],
   "source": [
    "results = []\n",
    "for genre in sorted(unique_genres):\n",
    "    result = profitability_genres[profitability_genres['genre'].str.contains(genre)]['ROI_worldwide'].mean()\n",
    "    results.append(result)\n",
    "\n",
    "output = pd.DataFrame({'Mean': results}, index=unique_genres)\n",
    "\n",
    "\n",
    "fig, ax = plt.subplots(figsize=(15,7))\n",
    "output.plot.bar(ax=ax)\n",
    "ax.set_title('Worldwide ROI by Genre')\n",
    "plt.show()"
   ]
  },
  {
   "cell_type": "code",
   "execution_count": 74,
   "metadata": {},
   "outputs": [
    {
     "data": {
      "image/png": "[encoded data removed]",
      "text/plain": [
       "<Figure size 1080x504 with 1 Axes>"
      ]
     },
     "metadata": {},
     "output_type": "display_data"
    }
   ],
   "source": [
    "results = []\n",
    "for genre in sorted(unique_genres):\n",
    "    result = profitability_genres[profitability_genres['genre'].str.contains(genre)]['ROI_domestic'].mean()\n",
    "    results.append(result)\n",
    "\n",
    "output = pd.DataFrame({'Mean': results}, index=unique_genres)\n",
    "\n",
    "\n",
    "fig, ax = plt.subplots(figsize=(15,7))\n",
    "output.plot.bar(ax=ax)\n",
    "ax.set_title('Domestic ROI by Genre')\n",
    "plt.show()"
   ]
  },
  {
   "cell_type": "raw",
   "metadata": {},
   "source": [
    "As we can see above the number of movies rated above 7.5 are more of Comedy genre "
   ]
  },
  {
   "cell_type": "code",
   "execution_count": 75,
   "metadata": {},
   "outputs": [
    {
     "data": {
      "text/plain": [
       "Text(0.5, 0, 'Genre')"
      ]
     },
     "execution_count": 75,
     "metadata": {},
     "output_type": "execute_result"
    },
    {
     "data": {
      "image/png": "[encoded data removed]",
      "text/plain": [
       "<Figure size 1296x1080 with 1 Axes>"
      ]
     },
     "metadata": {},
     "output_type": "display_data"
    }
   ],
   "source": [
    "\n",
    "fig, ax = plt.subplots(figsize=(18,15))\n",
    "ax = sns.barplot(x=\"genre\", y=\"net_income\", data=profitability_genres_mean, color=\"Green\")\n",
    "\n",
    "ax.set_xticklabels(profitability_genres['genre']\n",
    "                  )\n",
    "plt.title('Net income Distribution for Genres', fontsize=25)\n",
    "ax.set_ylabel('Net Income', fontsize=20)\n",
    "ax.set_xlabel('Genre', fontsize=20)"
   ]
  },
  {
   "cell_type": "raw",
   "metadata": {},
   "source": [
    "We can see that among highly rated movies Adventure, Animation and Comedy are the most profitable."
   ]
  },
  {
   "cell_type": "markdown",
   "metadata": {},
   "source": [
    "# Question 5\n",
    "## Which directors are making the most profitable movies?"
   ]
  },
  {
   "cell_type": "raw",
   "metadata": {},
   "source": [
    "A director has a lot of impact on making a movie and is required to make decisions which will ultimately affect the profitability of a movie. Let's see which directors are doing the best and whom we should consider hiring.\n",
    "\n",
    "It appears here that the \"NaN\" entries under the 'job' column imply the primary director so we will drop all rows where \"job\" is not \"NaN\"."
   ]
  },
  {
   "cell_type": "code",
   "execution_count": 76,
   "metadata": {},
   "outputs": [
    {
     "data": {
      "text/html": [
       "<div>\n",
       "<style scoped>\n",
       "    .dataframe tbody tr th:only-of-type {\n",
       "        vertical-align: middle;\n",
       "    }\n",
       "\n",
       "    .dataframe tbody tr th {\n",
       "        vertical-align: top;\n",
       "    }\n",
       "\n",
       "    .dataframe thead th {\n",
       "        text-align: right;\n",
       "    }\n",
       "</style>\n",
       "<table border=\"1\" class=\"dataframe\">\n",
       "  <thead>\n",
       "    <tr style=\"text-align: right;\">\n",
       "      <th></th>\n",
       "      <th>tconst</th>\n",
       "      <th>ordering</th>\n",
       "      <th>nconst</th>\n",
       "      <th>category</th>\n",
       "      <th>job</th>\n",
       "      <th>characters</th>\n",
       "    </tr>\n",
       "  </thead>\n",
       "  <tbody>\n",
       "    <tr>\n",
       "      <td>0</td>\n",
       "      <td>tt0111414</td>\n",
       "      <td>1</td>\n",
       "      <td>nm0246005</td>\n",
       "      <td>actor</td>\n",
       "      <td>NaN</td>\n",
       "      <td>[\"The Man\"]</td>\n",
       "    </tr>\n",
       "    <tr>\n",
       "      <td>1</td>\n",
       "      <td>tt0111414</td>\n",
       "      <td>2</td>\n",
       "      <td>nm0398271</td>\n",
       "      <td>director</td>\n",
       "      <td>NaN</td>\n",
       "      <td>NaN</td>\n",
       "    </tr>\n",
       "    <tr>\n",
       "      <td>2</td>\n",
       "      <td>tt0111414</td>\n",
       "      <td>3</td>\n",
       "      <td>nm3739909</td>\n",
       "      <td>producer</td>\n",
       "      <td>producer</td>\n",
       "      <td>NaN</td>\n",
       "    </tr>\n",
       "    <tr>\n",
       "      <td>3</td>\n",
       "      <td>tt0323808</td>\n",
       "      <td>10</td>\n",
       "      <td>nm0059247</td>\n",
       "      <td>editor</td>\n",
       "      <td>NaN</td>\n",
       "      <td>NaN</td>\n",
       "    </tr>\n",
       "    <tr>\n",
       "      <td>4</td>\n",
       "      <td>tt0323808</td>\n",
       "      <td>1</td>\n",
       "      <td>nm3579312</td>\n",
       "      <td>actress</td>\n",
       "      <td>NaN</td>\n",
       "      <td>[\"Beth Boothby\"]</td>\n",
       "    </tr>\n",
       "  </tbody>\n",
       "</table>\n",
       "</div>"
      ],
      "text/plain": [
       "      tconst  ordering     nconst  category       job        characters\n",
       "0  tt0111414         1  nm0246005     actor       NaN       [\"The Man\"]\n",
       "1  tt0111414         2  nm0398271  director       NaN               NaN\n",
       "2  tt0111414         3  nm3739909  producer  producer               NaN\n",
       "3  tt0323808        10  nm0059247    editor       NaN               NaN\n",
       "4  tt0323808         1  nm3579312   actress       NaN  [\"Beth Boothby\"]"
      ]
     },
     "execution_count": 76,
     "metadata": {},
     "output_type": "execute_result"
    }
   ],
   "source": [
    "df_principals.head()"
   ]
  },
  {
   "cell_type": "code",
   "execution_count": 77,
   "metadata": {},
   "outputs": [
    {
     "data": {
      "text/html": [
       "<div>\n",
       "<style scoped>\n",
       "    .dataframe tbody tr th:only-of-type {\n",
       "        vertical-align: middle;\n",
       "    }\n",
       "\n",
       "    .dataframe tbody tr th {\n",
       "        vertical-align: top;\n",
       "    }\n",
       "\n",
       "    .dataframe thead th {\n",
       "        text-align: right;\n",
       "    }\n",
       "</style>\n",
       "<table border=\"1\" class=\"dataframe\">\n",
       "  <thead>\n",
       "    <tr style=\"text-align: right;\">\n",
       "      <th></th>\n",
       "      <th>tconst</th>\n",
       "      <th>ordering</th>\n",
       "      <th>nconst</th>\n",
       "      <th>category</th>\n",
       "      <th>job</th>\n",
       "      <th>characters</th>\n",
       "    </tr>\n",
       "  </thead>\n",
       "  <tbody>\n",
       "    <tr>\n",
       "      <td>1</td>\n",
       "      <td>tt0111414</td>\n",
       "      <td>2</td>\n",
       "      <td>nm0398271</td>\n",
       "      <td>director</td>\n",
       "      <td>NaN</td>\n",
       "      <td>NaN</td>\n",
       "    </tr>\n",
       "    <tr>\n",
       "      <td>8</td>\n",
       "      <td>tt0323808</td>\n",
       "      <td>5</td>\n",
       "      <td>nm0362736</td>\n",
       "      <td>director</td>\n",
       "      <td>NaN</td>\n",
       "      <td>NaN</td>\n",
       "    </tr>\n",
       "    <tr>\n",
       "      <td>18</td>\n",
       "      <td>tt0417610</td>\n",
       "      <td>5</td>\n",
       "      <td>nm1145057</td>\n",
       "      <td>director</td>\n",
       "      <td>NaN</td>\n",
       "      <td>NaN</td>\n",
       "    </tr>\n",
       "    <tr>\n",
       "      <td>28</td>\n",
       "      <td>tt0469152</td>\n",
       "      <td>5</td>\n",
       "      <td>nm0707738</td>\n",
       "      <td>director</td>\n",
       "      <td>NaN</td>\n",
       "      <td>NaN</td>\n",
       "    </tr>\n",
       "    <tr>\n",
       "      <td>35</td>\n",
       "      <td>tt0473032</td>\n",
       "      <td>3</td>\n",
       "      <td>nm0776090</td>\n",
       "      <td>director</td>\n",
       "      <td>NaN</td>\n",
       "      <td>NaN</td>\n",
       "    </tr>\n",
       "  </tbody>\n",
       "</table>\n",
       "</div>"
      ],
      "text/plain": [
       "       tconst  ordering     nconst  category  job characters\n",
       "1   tt0111414         2  nm0398271  director  NaN        NaN\n",
       "8   tt0323808         5  nm0362736  director  NaN        NaN\n",
       "18  tt0417610         5  nm1145057  director  NaN        NaN\n",
       "28  tt0469152         5  nm0707738  director  NaN        NaN\n",
       "35  tt0473032         3  nm0776090  director  NaN        NaN"
      ]
     },
     "execution_count": 77,
     "metadata": {},
     "output_type": "execute_result"
    }
   ],
   "source": [
    "directors = df_principals.query(\"category == 'director'\")\n",
    "directors.head()"
   ]
  },
  {
   "cell_type": "code",
   "execution_count": 78,
   "metadata": {},
   "outputs": [
    {
     "data": {
      "text/plain": [
       "co-director               5796\n",
       "collaborating director     576\n",
       "segment director           241\n",
       "documentary director       163\n",
       "creative director           78\n",
       "supervising director        58\n",
       "series director             52\n",
       "second director             39\n",
       "chief director              36\n",
       "lead director               33\n",
       "Name: job, dtype: int64"
      ]
     },
     "execution_count": 78,
     "metadata": {},
     "output_type": "execute_result"
    }
   ],
   "source": [
    "#most other values under \"job\" are assistant directors.\n",
    "directors['job'].value_counts().head(10)\n"
   ]
  },
  {
   "cell_type": "code",
   "execution_count": 79,
   "metadata": {},
   "outputs": [
    {
     "data": {
      "text/html": [
       "<div>\n",
       "<style scoped>\n",
       "    .dataframe tbody tr th:only-of-type {\n",
       "        vertical-align: middle;\n",
       "    }\n",
       "\n",
       "    .dataframe tbody tr th {\n",
       "        vertical-align: top;\n",
       "    }\n",
       "\n",
       "    .dataframe thead th {\n",
       "        text-align: right;\n",
       "    }\n",
       "</style>\n",
       "<table border=\"1\" class=\"dataframe\">\n",
       "  <thead>\n",
       "    <tr style=\"text-align: right;\">\n",
       "      <th></th>\n",
       "      <th>tconst</th>\n",
       "      <th>ordering</th>\n",
       "      <th>nconst</th>\n",
       "      <th>category</th>\n",
       "      <th>job</th>\n",
       "      <th>characters</th>\n",
       "    </tr>\n",
       "  </thead>\n",
       "  <tbody>\n",
       "    <tr>\n",
       "      <td>1</td>\n",
       "      <td>tt0111414</td>\n",
       "      <td>2</td>\n",
       "      <td>nm0398271</td>\n",
       "      <td>director</td>\n",
       "      <td>NaN</td>\n",
       "      <td>NaN</td>\n",
       "    </tr>\n",
       "    <tr>\n",
       "      <td>8</td>\n",
       "      <td>tt0323808</td>\n",
       "      <td>5</td>\n",
       "      <td>nm0362736</td>\n",
       "      <td>director</td>\n",
       "      <td>NaN</td>\n",
       "      <td>NaN</td>\n",
       "    </tr>\n",
       "    <tr>\n",
       "      <td>18</td>\n",
       "      <td>tt0417610</td>\n",
       "      <td>5</td>\n",
       "      <td>nm1145057</td>\n",
       "      <td>director</td>\n",
       "      <td>NaN</td>\n",
       "      <td>NaN</td>\n",
       "    </tr>\n",
       "    <tr>\n",
       "      <td>28</td>\n",
       "      <td>tt0469152</td>\n",
       "      <td>5</td>\n",
       "      <td>nm0707738</td>\n",
       "      <td>director</td>\n",
       "      <td>NaN</td>\n",
       "      <td>NaN</td>\n",
       "    </tr>\n",
       "    <tr>\n",
       "      <td>35</td>\n",
       "      <td>tt0473032</td>\n",
       "      <td>3</td>\n",
       "      <td>nm0776090</td>\n",
       "      <td>director</td>\n",
       "      <td>NaN</td>\n",
       "      <td>NaN</td>\n",
       "    </tr>\n",
       "  </tbody>\n",
       "</table>\n",
       "</div>"
      ],
      "text/plain": [
       "       tconst  ordering     nconst  category  job characters\n",
       "1   tt0111414         2  nm0398271  director  NaN        NaN\n",
       "8   tt0323808         5  nm0362736  director  NaN        NaN\n",
       "18  tt0417610         5  nm1145057  director  NaN        NaN\n",
       "28  tt0469152         5  nm0707738  director  NaN        NaN\n",
       "35  tt0473032         3  nm0776090  director  NaN        NaN"
      ]
     },
     "execution_count": 79,
     "metadata": {},
     "output_type": "execute_result"
    }
   ],
   "source": [
    "#Dropping all rows where job is not \"NaN\".\n",
    "directors = directors[directors['job'].isna()]\n",
    "directors.head()"
   ]
  },
  {
   "cell_type": "raw",
   "metadata": {},
   "source": [
    "We will join our directors dataframe with our names dataframe so that we have the names."
   ]
  },
  {
   "cell_type": "code",
   "execution_count": 80,
   "metadata": {},
   "outputs": [
    {
     "data": {
      "text/html": [
       "<div>\n",
       "<style scoped>\n",
       "    .dataframe tbody tr th:only-of-type {\n",
       "        vertical-align: middle;\n",
       "    }\n",
       "\n",
       "    .dataframe tbody tr th {\n",
       "        vertical-align: top;\n",
       "    }\n",
       "\n",
       "    .dataframe thead th {\n",
       "        text-align: right;\n",
       "    }\n",
       "</style>\n",
       "<table border=\"1\" class=\"dataframe\">\n",
       "  <thead>\n",
       "    <tr style=\"text-align: right;\">\n",
       "      <th></th>\n",
       "      <th>tconst</th>\n",
       "      <th>ordering</th>\n",
       "      <th>nconst</th>\n",
       "      <th>category</th>\n",
       "      <th>job</th>\n",
       "      <th>characters</th>\n",
       "      <th>primary_name</th>\n",
       "      <th>birth_year</th>\n",
       "      <th>death_year</th>\n",
       "      <th>primary_profession</th>\n",
       "      <th>known_for_titles</th>\n",
       "    </tr>\n",
       "  </thead>\n",
       "  <tbody>\n",
       "    <tr>\n",
       "      <td>0</td>\n",
       "      <td>tt0111414</td>\n",
       "      <td>2</td>\n",
       "      <td>nm0398271</td>\n",
       "      <td>director</td>\n",
       "      <td>NaN</td>\n",
       "      <td>NaN</td>\n",
       "      <td>Frank Howson</td>\n",
       "      <td>1952.0</td>\n",
       "      <td>NaN</td>\n",
       "      <td>actor,writer,producer</td>\n",
       "      <td>tt0104271,tt0094789,tt0102076,tt0111414</td>\n",
       "    </tr>\n",
       "    <tr>\n",
       "      <td>1</td>\n",
       "      <td>tt0323808</td>\n",
       "      <td>5</td>\n",
       "      <td>nm0362736</td>\n",
       "      <td>director</td>\n",
       "      <td>NaN</td>\n",
       "      <td>NaN</td>\n",
       "      <td>Robin Hardy</td>\n",
       "      <td>1929.0</td>\n",
       "      <td>2016.0</td>\n",
       "      <td>actor,writer,director</td>\n",
       "      <td>tt0070917,tt0097375,tt0091032,tt0323808</td>\n",
       "    </tr>\n",
       "    <tr>\n",
       "      <td>2</td>\n",
       "      <td>tt0417610</td>\n",
       "      <td>5</td>\n",
       "      <td>nm1145057</td>\n",
       "      <td>director</td>\n",
       "      <td>NaN</td>\n",
       "      <td>NaN</td>\n",
       "      <td>Alejandro Chomski</td>\n",
       "      <td>1968.0</td>\n",
       "      <td>NaN</td>\n",
       "      <td>director,writer,producer</td>\n",
       "      <td>tt3350042,tt6483054,tt0417610,tt0347207</td>\n",
       "    </tr>\n",
       "    <tr>\n",
       "      <td>3</td>\n",
       "      <td>tt0469152</td>\n",
       "      <td>5</td>\n",
       "      <td>nm0707738</td>\n",
       "      <td>director</td>\n",
       "      <td>NaN</td>\n",
       "      <td>NaN</td>\n",
       "      <td>Alyssa R. Bennett</td>\n",
       "      <td>1960.0</td>\n",
       "      <td>NaN</td>\n",
       "      <td>producer,director,actress</td>\n",
       "      <td>tt4610944,tt5929400,tt4194608,tt9646364</td>\n",
       "    </tr>\n",
       "    <tr>\n",
       "      <td>4</td>\n",
       "      <td>tt0473032</td>\n",
       "      <td>3</td>\n",
       "      <td>nm0776090</td>\n",
       "      <td>director</td>\n",
       "      <td>NaN</td>\n",
       "      <td>NaN</td>\n",
       "      <td>J. Neil Schulman</td>\n",
       "      <td>1953.0</td>\n",
       "      <td>NaN</td>\n",
       "      <td>actor,writer,soundtrack</td>\n",
       "      <td>tt0088634,tt0473032,tt0783538,tt1667061</td>\n",
       "    </tr>\n",
       "  </tbody>\n",
       "</table>\n",
       "</div>"
      ],
      "text/plain": [
       "      tconst  ordering     nconst  category  job characters  \\\n",
       "0  tt0111414         2  nm0398271  director  NaN        NaN   \n",
       "1  tt0323808         5  nm0362736  director  NaN        NaN   \n",
       "2  tt0417610         5  nm1145057  director  NaN        NaN   \n",
       "3  tt0469152         5  nm0707738  director  NaN        NaN   \n",
       "4  tt0473032         3  nm0776090  director  NaN        NaN   \n",
       "\n",
       "        primary_name  birth_year  death_year         primary_profession  \\\n",
       "0       Frank Howson      1952.0         NaN      actor,writer,producer   \n",
       "1        Robin Hardy      1929.0      2016.0      actor,writer,director   \n",
       "2  Alejandro Chomski      1968.0         NaN   director,writer,producer   \n",
       "3  Alyssa R. Bennett      1960.0         NaN  producer,director,actress   \n",
       "4   J. Neil Schulman      1953.0         NaN    actor,writer,soundtrack   \n",
       "\n",
       "                          known_for_titles  \n",
       "0  tt0104271,tt0094789,tt0102076,tt0111414  \n",
       "1  tt0070917,tt0097375,tt0091032,tt0323808  \n",
       "2  tt3350042,tt6483054,tt0417610,tt0347207  \n",
       "3  tt4610944,tt5929400,tt4194608,tt9646364  \n",
       "4  tt0088634,tt0473032,tt0783538,tt1667061  "
      ]
     },
     "execution_count": 80,
     "metadata": {},
     "output_type": "execute_result"
    }
   ],
   "source": [
    "\n",
    "directors_with_name = directors.merge(df_names, how='left', on='nconst')\n",
    "directors_with_name.head()"
   ]
  },
  {
   "cell_type": "code",
   "execution_count": 81,
   "metadata": {},
   "outputs": [
    {
     "data": {
      "text/html": [
       "<div>\n",
       "<style scoped>\n",
       "    .dataframe tbody tr th:only-of-type {\n",
       "        vertical-align: middle;\n",
       "    }\n",
       "\n",
       "    .dataframe tbody tr th {\n",
       "        vertical-align: top;\n",
       "    }\n",
       "\n",
       "    .dataframe thead th {\n",
       "        text-align: right;\n",
       "    }\n",
       "</style>\n",
       "<table border=\"1\" class=\"dataframe\">\n",
       "  <thead>\n",
       "    <tr style=\"text-align: right;\">\n",
       "      <th></th>\n",
       "      <th>tconst</th>\n",
       "      <th>ordering</th>\n",
       "      <th>nconst</th>\n",
       "      <th>category</th>\n",
       "      <th>job</th>\n",
       "      <th>characters</th>\n",
       "      <th>primary_name</th>\n",
       "      <th>birth_year</th>\n",
       "      <th>death_year</th>\n",
       "      <th>primary_profession</th>\n",
       "      <th>known_for_titles</th>\n",
       "      <th>primary_title</th>\n",
       "      <th>original_title</th>\n",
       "      <th>start_year</th>\n",
       "      <th>runtime_minutes</th>\n",
       "      <th>genres</th>\n",
       "    </tr>\n",
       "  </thead>\n",
       "  <tbody>\n",
       "    <tr>\n",
       "      <td>0</td>\n",
       "      <td>tt0111414</td>\n",
       "      <td>2</td>\n",
       "      <td>nm0398271</td>\n",
       "      <td>director</td>\n",
       "      <td>NaN</td>\n",
       "      <td>NaN</td>\n",
       "      <td>Frank Howson</td>\n",
       "      <td>1952.0</td>\n",
       "      <td>NaN</td>\n",
       "      <td>actor,writer,producer</td>\n",
       "      <td>tt0104271,tt0094789,tt0102076,tt0111414</td>\n",
       "      <td>A Thin Life</td>\n",
       "      <td>A Thin Life</td>\n",
       "      <td>2018</td>\n",
       "      <td>75.0</td>\n",
       "      <td>Comedy</td>\n",
       "    </tr>\n",
       "    <tr>\n",
       "      <td>1</td>\n",
       "      <td>tt0323808</td>\n",
       "      <td>5</td>\n",
       "      <td>nm0362736</td>\n",
       "      <td>director</td>\n",
       "      <td>NaN</td>\n",
       "      <td>NaN</td>\n",
       "      <td>Robin Hardy</td>\n",
       "      <td>1929.0</td>\n",
       "      <td>2016.0</td>\n",
       "      <td>actor,writer,director</td>\n",
       "      <td>tt0070917,tt0097375,tt0091032,tt0323808</td>\n",
       "      <td>The Wicker Tree</td>\n",
       "      <td>The Wicker Tree</td>\n",
       "      <td>2011</td>\n",
       "      <td>96.0</td>\n",
       "      <td>Drama,Horror</td>\n",
       "    </tr>\n",
       "    <tr>\n",
       "      <td>2</td>\n",
       "      <td>tt0417610</td>\n",
       "      <td>5</td>\n",
       "      <td>nm1145057</td>\n",
       "      <td>director</td>\n",
       "      <td>NaN</td>\n",
       "      <td>NaN</td>\n",
       "      <td>Alejandro Chomski</td>\n",
       "      <td>1968.0</td>\n",
       "      <td>NaN</td>\n",
       "      <td>director,writer,producer</td>\n",
       "      <td>tt3350042,tt6483054,tt0417610,tt0347207</td>\n",
       "      <td>Asleep in the Sun</td>\n",
       "      <td>Dormir al sol</td>\n",
       "      <td>2010</td>\n",
       "      <td>83.0</td>\n",
       "      <td>Fantasy</td>\n",
       "    </tr>\n",
       "    <tr>\n",
       "      <td>3</td>\n",
       "      <td>tt0469152</td>\n",
       "      <td>5</td>\n",
       "      <td>nm0707738</td>\n",
       "      <td>director</td>\n",
       "      <td>NaN</td>\n",
       "      <td>NaN</td>\n",
       "      <td>Alyssa R. Bennett</td>\n",
       "      <td>1960.0</td>\n",
       "      <td>NaN</td>\n",
       "      <td>producer,director,actress</td>\n",
       "      <td>tt4610944,tt5929400,tt4194608,tt9646364</td>\n",
       "      <td>Smoking/Non-Smoking</td>\n",
       "      <td>The Pack</td>\n",
       "      <td>2011</td>\n",
       "      <td>84.0</td>\n",
       "      <td>Drama</td>\n",
       "    </tr>\n",
       "    <tr>\n",
       "      <td>4</td>\n",
       "      <td>tt0473032</td>\n",
       "      <td>3</td>\n",
       "      <td>nm0776090</td>\n",
       "      <td>director</td>\n",
       "      <td>NaN</td>\n",
       "      <td>NaN</td>\n",
       "      <td>J. Neil Schulman</td>\n",
       "      <td>1953.0</td>\n",
       "      <td>NaN</td>\n",
       "      <td>actor,writer,soundtrack</td>\n",
       "      <td>tt0088634,tt0473032,tt0783538,tt1667061</td>\n",
       "      <td>Escape from Heaven</td>\n",
       "      <td>Escape from Heaven</td>\n",
       "      <td>2018</td>\n",
       "      <td>NaN</td>\n",
       "      <td>Comedy,Fantasy</td>\n",
       "    </tr>\n",
       "  </tbody>\n",
       "</table>\n",
       "</div>"
      ],
      "text/plain": [
       "      tconst  ordering     nconst  category  job characters  \\\n",
       "0  tt0111414         2  nm0398271  director  NaN        NaN   \n",
       "1  tt0323808         5  nm0362736  director  NaN        NaN   \n",
       "2  tt0417610         5  nm1145057  director  NaN        NaN   \n",
       "3  tt0469152         5  nm0707738  director  NaN        NaN   \n",
       "4  tt0473032         3  nm0776090  director  NaN        NaN   \n",
       "\n",
       "        primary_name  birth_year  death_year         primary_profession  \\\n",
       "0       Frank Howson      1952.0         NaN      actor,writer,producer   \n",
       "1        Robin Hardy      1929.0      2016.0      actor,writer,director   \n",
       "2  Alejandro Chomski      1968.0         NaN   director,writer,producer   \n",
       "3  Alyssa R. Bennett      1960.0         NaN  producer,director,actress   \n",
       "4   J. Neil Schulman      1953.0         NaN    actor,writer,soundtrack   \n",
       "\n",
       "                          known_for_titles        primary_title  \\\n",
       "0  tt0104271,tt0094789,tt0102076,tt0111414          A Thin Life   \n",
       "1  tt0070917,tt0097375,tt0091032,tt0323808      The Wicker Tree   \n",
       "2  tt3350042,tt6483054,tt0417610,tt0347207    Asleep in the Sun   \n",
       "3  tt4610944,tt5929400,tt4194608,tt9646364  Smoking/Non-Smoking   \n",
       "4  tt0088634,tt0473032,tt0783538,tt1667061   Escape from Heaven   \n",
       "\n",
       "       original_title  start_year  runtime_minutes          genres  \n",
       "0         A Thin Life        2018             75.0          Comedy  \n",
       "1     The Wicker Tree        2011             96.0    Drama,Horror  \n",
       "2       Dormir al sol        2010             83.0         Fantasy  \n",
       "3            The Pack        2011             84.0           Drama  \n",
       "4  Escape from Heaven        2018              NaN  Comedy,Fantasy  "
      ]
     },
     "execution_count": 81,
     "metadata": {},
     "output_type": "execute_result"
    }
   ],
   "source": [
    "\n",
    "directors_with_name_movie = directors_with_name.merge(df_title, how='left', on='tconst')\n",
    "directors_with_name_movie.head()"
   ]
  },
  {
   "cell_type": "raw",
   "metadata": {},
   "source": [
    "Now we will join budget dataframe with our \"directors_with_name\" dataframe so we gate the names and ROI"
   ]
  },
  {
   "cell_type": "code",
   "execution_count": 82,
   "metadata": {},
   "outputs": [
    {
     "data": {
      "text/html": [
       "<div>\n",
       "<style scoped>\n",
       "    .dataframe tbody tr th:only-of-type {\n",
       "        vertical-align: middle;\n",
       "    }\n",
       "\n",
       "    .dataframe tbody tr th {\n",
       "        vertical-align: top;\n",
       "    }\n",
       "\n",
       "    .dataframe thead th {\n",
       "        text-align: right;\n",
       "    }\n",
       "</style>\n",
       "<table border=\"1\" class=\"dataframe\">\n",
       "  <thead>\n",
       "    <tr style=\"text-align: right;\">\n",
       "      <th></th>\n",
       "      <th>id</th>\n",
       "      <th>release_date</th>\n",
       "      <th>movie</th>\n",
       "      <th>production_budget</th>\n",
       "      <th>domestic_gross</th>\n",
       "      <th>worldwide_gross</th>\n",
       "      <th>release_year</th>\n",
       "      <th>release_month</th>\n",
       "      <th>ROI_worldwide</th>\n",
       "      <th>ROI_domestic</th>\n",
       "      <th>...</th>\n",
       "      <th>primary_name</th>\n",
       "      <th>birth_year</th>\n",
       "      <th>death_year</th>\n",
       "      <th>primary_profession</th>\n",
       "      <th>known_for_titles</th>\n",
       "      <th>primary_title</th>\n",
       "      <th>original_title</th>\n",
       "      <th>start_year</th>\n",
       "      <th>runtime_minutes</th>\n",
       "      <th>genres</th>\n",
       "    </tr>\n",
       "  </thead>\n",
       "  <tbody>\n",
       "    <tr>\n",
       "      <td>0</td>\n",
       "      <td>1</td>\n",
       "      <td>2009-12-18</td>\n",
       "      <td>Avatar</td>\n",
       "      <td>425000000.0</td>\n",
       "      <td>760507625.0</td>\n",
       "      <td>2.776345e+09</td>\n",
       "      <td>2009</td>\n",
       "      <td>12</td>\n",
       "      <td>5.532577</td>\n",
       "      <td>0.789430</td>\n",
       "      <td>...</td>\n",
       "      <td>Atsushi Wada</td>\n",
       "      <td>NaN</td>\n",
       "      <td>NaN</td>\n",
       "      <td>director</td>\n",
       "      <td>tt1594549,tt1775309,tt1602612</td>\n",
       "      <td>Avatar</td>\n",
       "      <td>Abatâ</td>\n",
       "      <td>2011</td>\n",
       "      <td>93.0</td>\n",
       "      <td>Horror</td>\n",
       "    </tr>\n",
       "    <tr>\n",
       "      <td>1</td>\n",
       "      <td>2</td>\n",
       "      <td>2011-05-20</td>\n",
       "      <td>Pirates of the Caribbean: On Stranger Tides</td>\n",
       "      <td>410600000.0</td>\n",
       "      <td>241063875.0</td>\n",
       "      <td>1.045664e+09</td>\n",
       "      <td>2011</td>\n",
       "      <td>5</td>\n",
       "      <td>1.546673</td>\n",
       "      <td>-0.412899</td>\n",
       "      <td>...</td>\n",
       "      <td>Rob Marshall</td>\n",
       "      <td>1960.0</td>\n",
       "      <td>NaN</td>\n",
       "      <td>director,miscellaneous,producer</td>\n",
       "      <td>tt2180411,tt0299658,tt0875034,tt5028340</td>\n",
       "      <td>Pirates of the Caribbean: On Stranger Tides</td>\n",
       "      <td>Pirates of the Caribbean: On Stranger Tides</td>\n",
       "      <td>2011</td>\n",
       "      <td>136.0</td>\n",
       "      <td>Action,Adventure,Fantasy</td>\n",
       "    </tr>\n",
       "    <tr>\n",
       "      <td>2</td>\n",
       "      <td>3</td>\n",
       "      <td>2019-06-07</td>\n",
       "      <td>Dark Phoenix</td>\n",
       "      <td>350000000.0</td>\n",
       "      <td>42762350.0</td>\n",
       "      <td>1.497624e+08</td>\n",
       "      <td>2019</td>\n",
       "      <td>6</td>\n",
       "      <td>-0.572108</td>\n",
       "      <td>-0.877822</td>\n",
       "      <td>...</td>\n",
       "      <td>Simon Kinberg</td>\n",
       "      <td>1973.0</td>\n",
       "      <td>NaN</td>\n",
       "      <td>producer,writer,director</td>\n",
       "      <td>tt1502712,tt3315342,tt1877832,tt3659388</td>\n",
       "      <td>Dark Phoenix</td>\n",
       "      <td>Dark Phoenix</td>\n",
       "      <td>2019</td>\n",
       "      <td>113.0</td>\n",
       "      <td>Action,Adventure,Sci-Fi</td>\n",
       "    </tr>\n",
       "    <tr>\n",
       "      <td>3</td>\n",
       "      <td>4</td>\n",
       "      <td>2015-05-01</td>\n",
       "      <td>Avengers: Age of Ultron</td>\n",
       "      <td>330600000.0</td>\n",
       "      <td>459005868.0</td>\n",
       "      <td>1.403014e+09</td>\n",
       "      <td>2015</td>\n",
       "      <td>5</td>\n",
       "      <td>3.243841</td>\n",
       "      <td>0.388403</td>\n",
       "      <td>...</td>\n",
       "      <td>Joss Whedon</td>\n",
       "      <td>1964.0</td>\n",
       "      <td>NaN</td>\n",
       "      <td>writer,producer,director</td>\n",
       "      <td>tt0118276,tt0162065,tt0848228,tt1259521</td>\n",
       "      <td>Avengers: Age of Ultron</td>\n",
       "      <td>Avengers: Age of Ultron</td>\n",
       "      <td>2015</td>\n",
       "      <td>141.0</td>\n",
       "      <td>Action,Adventure,Sci-Fi</td>\n",
       "    </tr>\n",
       "    <tr>\n",
       "      <td>4</td>\n",
       "      <td>7</td>\n",
       "      <td>2018-04-27</td>\n",
       "      <td>Avengers: Infinity War</td>\n",
       "      <td>300000000.0</td>\n",
       "      <td>678815482.0</td>\n",
       "      <td>2.048134e+09</td>\n",
       "      <td>2018</td>\n",
       "      <td>4</td>\n",
       "      <td>5.827114</td>\n",
       "      <td>1.262718</td>\n",
       "      <td>...</td>\n",
       "      <td>Anthony Russo</td>\n",
       "      <td>1970.0</td>\n",
       "      <td>NaN</td>\n",
       "      <td>producer,director,writer</td>\n",
       "      <td>tt1843866,tt4154756,tt3498820,tt4154796</td>\n",
       "      <td>Avengers: Infinity War</td>\n",
       "      <td>Avengers: Infinity War</td>\n",
       "      <td>2018</td>\n",
       "      <td>149.0</td>\n",
       "      <td>Action,Adventure,Sci-Fi</td>\n",
       "    </tr>\n",
       "  </tbody>\n",
       "</table>\n",
       "<p>5 rows × 29 columns</p>\n",
       "</div>"
      ],
      "text/plain": [
       "   id release_date                                        movie  \\\n",
       "0   1   2009-12-18                                       Avatar   \n",
       "1   2   2011-05-20  Pirates of the Caribbean: On Stranger Tides   \n",
       "2   3   2019-06-07                                 Dark Phoenix   \n",
       "3   4   2015-05-01                      Avengers: Age of Ultron   \n",
       "4   7   2018-04-27                       Avengers: Infinity War   \n",
       "\n",
       "   production_budget  domestic_gross  worldwide_gross  release_year  \\\n",
       "0        425000000.0     760507625.0     2.776345e+09          2009   \n",
       "1        410600000.0     241063875.0     1.045664e+09          2011   \n",
       "2        350000000.0      42762350.0     1.497624e+08          2019   \n",
       "3        330600000.0     459005868.0     1.403014e+09          2015   \n",
       "4        300000000.0     678815482.0     2.048134e+09          2018   \n",
       "\n",
       "   release_month  ROI_worldwide  ROI_domestic  ...   primary_name birth_year  \\\n",
       "0             12       5.532577      0.789430  ...   Atsushi Wada        NaN   \n",
       "1              5       1.546673     -0.412899  ...   Rob Marshall     1960.0   \n",
       "2              6      -0.572108     -0.877822  ...  Simon Kinberg     1973.0   \n",
       "3              5       3.243841      0.388403  ...    Joss Whedon     1964.0   \n",
       "4              4       5.827114      1.262718  ...  Anthony Russo     1970.0   \n",
       "\n",
       "  death_year               primary_profession  \\\n",
       "0        NaN                         director   \n",
       "1        NaN  director,miscellaneous,producer   \n",
       "2        NaN         producer,writer,director   \n",
       "3        NaN         writer,producer,director   \n",
       "4        NaN         producer,director,writer   \n",
       "\n",
       "                          known_for_titles  \\\n",
       "0            tt1594549,tt1775309,tt1602612   \n",
       "1  tt2180411,tt0299658,tt0875034,tt5028340   \n",
       "2  tt1502712,tt3315342,tt1877832,tt3659388   \n",
       "3  tt0118276,tt0162065,tt0848228,tt1259521   \n",
       "4  tt1843866,tt4154756,tt3498820,tt4154796   \n",
       "\n",
       "                                 primary_title  \\\n",
       "0                                       Avatar   \n",
       "1  Pirates of the Caribbean: On Stranger Tides   \n",
       "2                                 Dark Phoenix   \n",
       "3                      Avengers: Age of Ultron   \n",
       "4                       Avengers: Infinity War   \n",
       "\n",
       "                                original_title start_year runtime_minutes  \\\n",
       "0                                        Abatâ       2011            93.0   \n",
       "1  Pirates of the Caribbean: On Stranger Tides       2011           136.0   \n",
       "2                                 Dark Phoenix       2019           113.0   \n",
       "3                      Avengers: Age of Ultron       2015           141.0   \n",
       "4                       Avengers: Infinity War       2018           149.0   \n",
       "\n",
       "                     genres  \n",
       "0                    Horror  \n",
       "1  Action,Adventure,Fantasy  \n",
       "2   Action,Adventure,Sci-Fi  \n",
       "3   Action,Adventure,Sci-Fi  \n",
       "4   Action,Adventure,Sci-Fi  \n",
       "\n",
       "[5 rows x 29 columns]"
      ]
     },
     "execution_count": 82,
     "metadata": {},
     "output_type": "execute_result"
    }
   ],
   "source": [
    "directors_profitability = df_budjets.merge(directors_with_name_movie, how='inner', \n",
    "                                    left_on='movie',right_on='primary_title')\n",
    "directors_profitability.head()"
   ]
  },
  {
   "cell_type": "code",
   "execution_count": 83,
   "metadata": {},
   "outputs": [],
   "source": [
    "directors_profitability_new= directors_profitability.rename(columns={\"primary_name\": \"directors\"})"
   ]
  },
  {
   "cell_type": "code",
   "execution_count": 84,
   "metadata": {},
   "outputs": [],
   "source": [
    "total_profit_by_director_worldwide = directors_profitability_new.groupby('directors')['ROI_worldwide'].mean()\n",
    "total_profit_by_director_domestic = directors_profitability_new.groupby('directors')['ROI_domestic'].mean()\n"
   ]
  },
  {
   "cell_type": "code",
   "execution_count": 85,
   "metadata": {},
   "outputs": [
    {
     "data": {
      "text/plain": [
       "directors\n",
       "Travis Cluff          415.564740\n",
       "Chris Lofing          415.564740\n",
       "Sébastien Lifshitz    311.354312\n",
       "Sujit Mondal          224.000000\n",
       "Adnan A. Shaikh       224.000000\n",
       "Karthik Chandan       123.277880\n",
       "Paul Hendy            123.277880\n",
       "Chris Stokes           94.576000\n",
       "Levan Gabriadze        63.364198\n",
       "Coodie                 62.119120\n",
       "Name: ROI_worldwide, dtype: float64"
      ]
     },
     "execution_count": 85,
     "metadata": {},
     "output_type": "execute_result"
    }
   ],
   "source": [
    "top_10_directors_worldwide = total_profit_by_director_worldwide.sort_values(ascending=False).head(10)\n",
    "top_10_directors_worldwide"
   ]
  },
  {
   "cell_type": "code",
   "execution_count": 86,
   "metadata": {},
   "outputs": [
    {
     "data": {
      "text/plain": [
       "directors\n",
       "Travis Cluff          226.644100\n",
       "Chris Lofing          226.644100\n",
       "Karthik Chandan       123.277880\n",
       "Paul Hendy            123.277880\n",
       "Sébastien Lifshitz    118.810023\n",
       "Sujit Mondal          116.235147\n",
       "Adnan A. Shaikh       116.235147\n",
       "Chris Stokes           94.576000\n",
       "Brandon Camp           62.119120\n",
       "Chike Ozah             62.119120\n",
       "Name: ROI_domestic, dtype: float64"
      ]
     },
     "execution_count": 86,
     "metadata": {},
     "output_type": "execute_result"
    }
   ],
   "source": [
    "top_10_directors_domestic = total_profit_by_director_domestic.sort_values(ascending=False).head(10)\n",
    "top_10_directors_domestic"
   ]
  },
  {
   "cell_type": "code",
   "execution_count": 87,
   "metadata": {},
   "outputs": [
    {
     "data": {
      "text/plain": [
       "<matplotlib.axes._subplots.AxesSubplot at 0x7ff28441eda0>"
      ]
     },
     "execution_count": 87,
     "metadata": {},
     "output_type": "execute_result"
    },
    {
     "data": {
      "image/png": "[encoded data removed]",
      "text/plain": [
       "<Figure size 1152x576 with 1 Axes>"
      ]
     },
     "metadata": {},
     "output_type": "display_data"
    }
   ],
   "source": [
    "fig2, ax2 = plt.subplots(figsize=(16, 8))\n",
    "plt.title('Directors with the most profitable average movie worldwide')\n",
    "plt.ylabel('directors')\n",
    "plt.xlabel('ROI_worldwide')\n",
    "ax2.set(ylabel='directors')\n",
    "sns.barplot(top_10_directors_worldwide.values, top_10_directors_worldwide.index, color='Green')"
   ]
  },
  {
   "cell_type": "code",
   "execution_count": 88,
   "metadata": {},
   "outputs": [
    {
     "data": {
      "text/plain": [
       "<matplotlib.axes._subplots.AxesSubplot at 0x7ff28456cc18>"
      ]
     },
     "execution_count": 88,
     "metadata": {},
     "output_type": "execute_result"
    },
    {
     "data": {
      "image/png": "[encoded data removed]",
      "text/plain": [
       "<Figure size 1152x576 with 1 Axes>"
      ]
     },
     "metadata": {},
     "output_type": "display_data"
    }
   ],
   "source": [
    "fig2, ax2 = plt.subplots(figsize=(16, 8))\n",
    "plt.title('Directors with the most profitable average movie domestic')\n",
    "plt.ylabel('directors')\n",
    "plt.xlabel('ROI_domestic')\n",
    "ax2.set(ylabel='directors')\n",
    "sns.barplot(top_10_directors_domestic.values, top_10_directors_domestic.index, color='Green')"
   ]
  },
  {
   "cell_type": "raw",
   "metadata": {},
   "source": [
    "As we can see top 2 directors with the most profit are Travis Cluff and Chris Lofing who did well both worldwide and domestically."
   ]
  },
  {
   "cell_type": "markdown",
   "metadata": {},
   "source": [
    "# Conclusion\n",
    "\n",
    "Throughout my project of movie industry analysis the dataframes are explored to get answers \n",
    "to the top 5 questions which may help to decision making process and provide valuable recommendations \n",
    "to stockholders.\n",
    "\n",
    "From the answers it may be concluded that:\n",
    "\n",
    "   \n",
    "- 2013, 2014 and 2015 has the highest number of movies between 2009 and 2019,\n",
    "\n",
    "- June, July and August are the months with highest average ROI, \n",
    "  top 4 months with highest average production budget are May, June, July and November,\n",
    "- There is significant and positive correlation between:\n",
    "  popularity and production budget, net income and production budget. Higher production budget leads to higher profit.\n",
    "- Action, Adventure, Comedy and Action, Adventure, Sci-Fi are doing the best both domestically and in general.\n",
    "  When we take genres above 7.5 rating we get Adventure, Animation, Action and Comedy are the most profitable genres.\n",
    "- Most highly rated movies are from 100 to 130 minutes\n",
    "- Top 2 directors are Travis Cluff and Chris Lofing."
   ]
  },
  {
   "cell_type": "code",
   "execution_count": null,
   "metadata": {},
   "outputs": [],
   "source": []
  }
 ],
 "metadata": {
  "celltoolbar": "Edit Metadata",
  "kernelspec": {
   "display_name": "Python 3",
   "language": "python",
   "name": "python3"
  },
  "language_info": {
   "codemirror_mode": {
    "name": "ipython",
    "version": 3
   },
   "file_extension": ".py",
   "mimetype": "text/x-python",
   "name": "python",
   "nbconvert_exporter": "python",
   "pygments_lexer": "ipython3",
   "version": "3.6.9"
  },
  "nbTranslate": {
   "displayLangs": [
    "*"
   ],
   "hotkey": "alt-t",
   "langInMainMenu": true,
   "sourceLang": "en",
   "targetLang": "fr",
   "useGoogleTranslate": true
  }
 },
 "nbformat": 4,
 "nbformat_minor": 2
}
